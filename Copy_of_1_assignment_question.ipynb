{
  "cells": [
    {
      "cell_type": "markdown",
      "metadata": {
        "id": "lsKj4WGCchyG"
      },
      "source": [
        "# Python Basics\n",
        "## Topics Covered:\n",
        "- Syntax and Semantics\n",
        "- Variables and Data Types\n",
        "- Basic Operators (Arithmetic, Comparison, Logical)\n"
      ]
    },
    {
      "cell_type": "markdown",
      "metadata": {
        "id": "MKsvEFAFchyI"
      },
      "source": [
        "## 1. Syntax and Semantics\n",
        "\n",
        "**Question 1:** Write a Python program to print \"Hello, World!\"."
      ]
    },
    {
      "cell_type": "code",
      "execution_count": null,
      "metadata": {
        "id": "hxznUdiWchyJ",
        "colab": {
          "base_uri": "https://localhost:8080/"
        },
        "outputId": "44c6194e-dfa4-4c4a-ec3d-b2b4bff539f2"
      },
      "outputs": [
        {
          "output_type": "stream",
          "name": "stdout",
          "text": [
            "Hello,World\n"
          ]
        }
      ],
      "source": [
        "print(\"Hello,World\")\n"
      ]
    },
    {
      "cell_type": "markdown",
      "metadata": {
        "id": "a7z0172_chyK"
      },
      "source": [
        "**Question 2:** Write a Python program that takes a user input and prints it."
      ]
    },
    {
      "cell_type": "code",
      "execution_count": null,
      "metadata": {
        "id": "n39ysq9GchyL",
        "colab": {
          "base_uri": "https://localhost:8080/"
        },
        "outputId": "a18893b5-d8c5-4aa1-f0d4-fd6a66451fd4"
      },
      "outputs": [
        {
          "output_type": "stream",
          "name": "stdout",
          "text": [
            "Enter the number:2\n",
            "2\n"
          ]
        }
      ],
      "source": [
        "num_1 = int(input(\"Enter the number:\"))\n",
        "print(num_1)"
      ]
    },
    {
      "cell_type": "markdown",
      "metadata": {
        "id": "owyHl0-LchyL"
      },
      "source": [
        "**Question 3:** Write a Python program to check if a number is positive, negative, or zero."
      ]
    },
    {
      "cell_type": "code",
      "execution_count": null,
      "metadata": {
        "id": "sjbd1UsochyL",
        "colab": {
          "base_uri": "https://localhost:8080/"
        },
        "outputId": "3ad35345-edad-48b2-c9cd-47813fa8354b"
      },
      "outputs": [
        {
          "output_type": "stream",
          "name": "stdout",
          "text": [
            "Enter the number:-2\n",
            "negative\n"
          ]
        }
      ],
      "source": [
        "# Your code here\n",
        "num = int(input(\"Enter the number:\"))\n",
        "if num>0:\n",
        "  print(\"positive\")\n",
        "elif num<0:\n",
        "  print(\"negative\")\n",
        "else:\n",
        "  print(\"zero\")"
      ]
    },
    {
      "cell_type": "markdown",
      "metadata": {
        "id": "BWlq6G4wchyM"
      },
      "source": [
        "**Question 4:** Write a Python program to find the largest of three numbers."
      ]
    },
    {
      "cell_type": "code",
      "execution_count": null,
      "metadata": {
        "id": "5JhaHxDWchyN",
        "colab": {
          "base_uri": "https://localhost:8080/"
        },
        "outputId": "030393de-3582-49ef-9815-5f33db4ed4c0"
      },
      "outputs": [
        {
          "output_type": "stream",
          "name": "stdout",
          "text": [
            "enter the number:3\n",
            "enter the number:4\n",
            "enter the number:2\n",
            "num2 is greater\n"
          ]
        }
      ],
      "source": [
        "# Your code here\n",
        "num1 = int(input(\"enter the number:\"))\n",
        "num2 = int(input(\"enter the number:\"))\n",
        "num3 = int(input(\"enter the number:\"))\n",
        "if num1>num2 and num1>num3:\n",
        "  print(\"num1 is greater\")\n",
        "elif num2>num1 and num2>num3:\n",
        "  print(\"num2 is greater\")\n",
        "elif num3>num1 and num2>num3:\n",
        "  print(\"num3 is greater\")"
      ]
    },
    {
      "cell_type": "markdown",
      "metadata": {
        "id": "Q_8WjlTIchyN"
      },
      "source": [
        "**Question 5:** Write a Python program to calculate the factorial of a number."
      ]
    },
    {
      "cell_type": "code",
      "execution_count": null,
      "metadata": {
        "id": "alfZCmZ8chyN",
        "colab": {
          "base_uri": "https://localhost:8080/"
        },
        "outputId": "2fe9bdaf-84f2-4982-93be-7f2113ebb86f"
      },
      "outputs": [
        {
          "output_type": "stream",
          "name": "stdout",
          "text": [
            "enter the num:6\n",
            "720\n"
          ]
        }
      ],
      "source": [
        "# Your code here\n",
        "num = int(input(\"enter the num:\"))\n",
        "fact = 1\n",
        "for i in range(1,num+1):\n",
        "  fact = fact*i\n",
        "print(fact)"
      ]
    },
    {
      "cell_type": "markdown",
      "metadata": {
        "id": "gORdXRg1chyO"
      },
      "source": [
        "## 2. Variables and Data Types\n",
        "\n",
        "**Question 6:** Create variables of different data types: integer, float, string, and boolean. Print their values and types."
      ]
    },
    {
      "cell_type": "code",
      "execution_count": null,
      "metadata": {
        "id": "m4ShxcVVchyO",
        "colab": {
          "base_uri": "https://localhost:8080/"
        },
        "outputId": "59e3bb00-1144-41da-f614-fe80939c9a6c"
      },
      "outputs": [
        {
          "output_type": "stream",
          "name": "stdout",
          "text": [
            "5 <class 'int'>\n",
            "0.3 <class 'float'>\n",
            "hello <class 'str'>\n",
            "True <class 'bool'>\n"
          ]
        }
      ],
      "source": [
        "# Your code here\n",
        "int_1 = 5\n",
        "float_1 = 0.3\n",
        "string_1 = \"hello\"\n",
        "bool_1 = True\n",
        "print(int_1,type(int_1))\n",
        "print(float_1,type(float_1))\n",
        "print(string_1,type(string_1))\n",
        "print(bool_1,type(bool_1))"
      ]
    },
    {
      "cell_type": "markdown",
      "metadata": {
        "id": "7XreN059chyO"
      },
      "source": [
        "**Question 7:** Write a Python program to swap the values of two variables."
      ]
    },
    {
      "cell_type": "code",
      "execution_count": null,
      "metadata": {
        "id": "5F3Nqcg3chyO",
        "colab": {
          "base_uri": "https://localhost:8080/"
        },
        "outputId": "a75e3d67-304f-4954-cfd5-772463ec0652"
      },
      "outputs": [
        {
          "output_type": "stream",
          "name": "stdout",
          "text": [
            "20 10\n"
          ]
        }
      ],
      "source": [
        "# Your code here\n",
        "a = 10\n",
        "b = 20\n",
        "a,b = b,a\n",
        "print(a,b)"
      ]
    },
    {
      "cell_type": "markdown",
      "metadata": {
        "id": "WJBywSXKchyO"
      },
      "source": [
        "**Question 8:** Write a Python program to convert Celsius to Fahrenheit."
      ]
    },
    {
      "cell_type": "code",
      "execution_count": null,
      "metadata": {
        "id": "AsocFasichyP",
        "colab": {
          "base_uri": "https://localhost:8080/"
        },
        "outputId": "20707fb6-d8b2-4a2f-c041-203fe664cde1"
      },
      "outputs": [
        {
          "output_type": "stream",
          "name": "stdout",
          "text": [
            "enter the number:0.30\n",
            "32.54\n"
          ]
        }
      ],
      "source": [
        "# Your code here\n",
        "celsius = float(input(\"enter the number:\"))\n",
        "fahrenheit = (celsius*9/5)+32\n",
        "print(fahrenheit)"
      ]
    },
    {
      "cell_type": "markdown",
      "metadata": {
        "id": "8fEK0rcFchyP"
      },
      "source": [
        "**Question 9:** Write a Python program to concatenate two strings."
      ]
    },
    {
      "cell_type": "code",
      "execution_count": null,
      "metadata": {
        "id": "0bQO6-UVchyP",
        "colab": {
          "base_uri": "https://localhost:8080/"
        },
        "outputId": "ac821af6-e375-4439-a8ac-cce5efccb488"
      },
      "outputs": [
        {
          "output_type": "stream",
          "name": "stdout",
          "text": [
            "Helloworld\n"
          ]
        }
      ],
      "source": [
        "# Your code here\n",
        "str_1 = \"Hello\"\n",
        "str_2 = \"world\"\n",
        "print(str_1+str_2)"
      ]
    },
    {
      "cell_type": "markdown",
      "metadata": {
        "id": "sK247iPCchyP"
      },
      "source": [
        "**Question 10:** Write a Python program to check if a variable is of a specific data type."
      ]
    },
    {
      "cell_type": "code",
      "execution_count": null,
      "metadata": {
        "id": "jBdvDL4qchyP",
        "colab": {
          "base_uri": "https://localhost:8080/"
        },
        "outputId": "0eb878ed-5be2-4147-9ce8-0c61b85617a3"
      },
      "outputs": [
        {
          "output_type": "stream",
          "name": "stdout",
          "text": [
            "True\n"
          ]
        }
      ],
      "source": [
        "# Your code here\n",
        "num = 10\n",
        "print(isinstance(num,int))"
      ]
    },
    {
      "cell_type": "markdown",
      "metadata": {
        "id": "EWYre2CSchyQ"
      },
      "source": [
        "## 3. Basic Operators (Arithmetic, Comparison, Logical)\n",
        "\n",
        "**Question 11:** Write a Python program to perform arithmetic operations: addition, subtraction, multiplication, and division."
      ]
    },
    {
      "cell_type": "code",
      "execution_count": null,
      "metadata": {
        "id": "A2OInbQlchyQ",
        "colab": {
          "base_uri": "https://localhost:8080/"
        },
        "outputId": "a57ee63f-b147-4d0c-b27e-6f5afb1fd92d"
      },
      "outputs": [
        {
          "output_type": "stream",
          "name": "stdout",
          "text": [
            "40\n",
            "-20\n",
            "300\n",
            "0.3333333333333333\n"
          ]
        }
      ],
      "source": [
        "# Your code here\n",
        "a = 10\n",
        "b = 30\n",
        "print(a+b)\n",
        "print(a-b)\n",
        "print(a*b)\n",
        "print(a/b)"
      ]
    },
    {
      "cell_type": "markdown",
      "metadata": {
        "id": "HrZFnGhNchyQ"
      },
      "source": [
        "**Question 12:** Write a Python program to demonstrate comparison operators: equal to, not equal to, greater than, less than."
      ]
    },
    {
      "cell_type": "code",
      "execution_count": null,
      "metadata": {
        "id": "59zBeZhDchyQ",
        "colab": {
          "base_uri": "https://localhost:8080/"
        },
        "outputId": "7455767a-fada-46a1-e6b9-ebdec439d715"
      },
      "outputs": [
        {
          "output_type": "stream",
          "name": "stdout",
          "text": [
            "False\n",
            "True\n",
            "True\n",
            "False\n"
          ]
        }
      ],
      "source": [
        "# Your code here\n",
        "a = 10\n",
        "b = 20\n",
        "print(a==b)\n",
        "print(a!=b)\n",
        "print(a<b)\n",
        "print(a>b)"
      ]
    },
    {
      "cell_type": "markdown",
      "metadata": {
        "id": "jaksBUCBchyQ"
      },
      "source": [
        "**Question 13:** Write a Python program to demonstrate logical operators: and, or, not."
      ]
    },
    {
      "cell_type": "code",
      "execution_count": null,
      "metadata": {
        "id": "UQlmYKx1chyQ",
        "colab": {
          "base_uri": "https://localhost:8080/"
        },
        "outputId": "8747bb45-156c-4cdb-ae9f-80782dc1af07"
      },
      "outputs": [
        {
          "output_type": "stream",
          "name": "stdout",
          "text": [
            "False\n",
            "True\n",
            "True\n"
          ]
        }
      ],
      "source": [
        "# Your code here\n",
        "a = 10\n",
        "b = 20\n",
        "print(a>b and b>a)\n",
        "print(a>b or b>a)\n",
        "print(not(a>b))"
      ]
    },
    {
      "cell_type": "markdown",
      "metadata": {
        "id": "nDSQKampchyR"
      },
      "source": [
        "**Question 14:** Write a Python program to calculate the square of a number."
      ]
    },
    {
      "cell_type": "code",
      "execution_count": null,
      "metadata": {
        "id": "n81aEzFXchyR",
        "colab": {
          "base_uri": "https://localhost:8080/"
        },
        "outputId": "e59cca25-3ee9-4abc-c891-7bca2bc3535d"
      },
      "outputs": [
        {
          "output_type": "stream",
          "name": "stdout",
          "text": [
            "4\n"
          ]
        }
      ],
      "source": [
        "# Your code here\n",
        "num = 2\n",
        "print(num**2)"
      ]
    },
    {
      "cell_type": "markdown",
      "metadata": {
        "id": "DZDxGn7zchyR"
      },
      "source": [
        "**Question 15:** Write a Python program to check if a number is even or odd."
      ]
    },
    {
      "cell_type": "code",
      "execution_count": null,
      "metadata": {
        "id": "UKNuVCQEchyR",
        "colab": {
          "base_uri": "https://localhost:8080/"
        },
        "outputId": "e25510fc-54e1-434a-f3e2-22cee0397cc0"
      },
      "outputs": [
        {
          "output_type": "stream",
          "name": "stdout",
          "text": [
            "even\n"
          ]
        }
      ],
      "source": [
        "# Your code here\n",
        "num = 10\n",
        "if num%2 == 0:\n",
        "  print(\"even\")\n",
        "elif num%2 != 0:\n",
        "  print(\"odd\")"
      ]
    },
    {
      "cell_type": "markdown",
      "metadata": {
        "id": "IxQ4X3bvchyR"
      },
      "source": [
        "**Question 16:** Write a Python program to find the sum of the first n natural numbers."
      ]
    },
    {
      "cell_type": "code",
      "execution_count": null,
      "metadata": {
        "id": "WbHUEQvJchyR",
        "colab": {
          "base_uri": "https://localhost:8080/"
        },
        "outputId": "9368edae-2c59-4f76-d0c1-6b8db4390bd2"
      },
      "outputs": [
        {
          "output_type": "stream",
          "name": "stdout",
          "text": [
            "55\n"
          ]
        }
      ],
      "source": [
        "# Your code here\n",
        "num = 10\n",
        "sum = 0\n",
        "for i in range(1,num+1):\n",
        "  sum+= i\n",
        "print(sum)"
      ]
    },
    {
      "cell_type": "markdown",
      "metadata": {
        "id": "8JAP19xIchyS"
      },
      "source": [
        "**Question 17:** Write a Python program to check if a year is a leap year."
      ]
    },
    {
      "cell_type": "code",
      "execution_count": null,
      "metadata": {
        "id": "g8V2kOiAchyS",
        "colab": {
          "base_uri": "https://localhost:8080/"
        },
        "outputId": "bed726c0-56a0-413d-a7c4-3a74f7347a2d"
      },
      "outputs": [
        {
          "output_type": "stream",
          "name": "stdout",
          "text": [
            "not a leap year\n"
          ]
        }
      ],
      "source": [
        "# Your code here\n",
        "year = 2023\n",
        "if year%4 == 0:\n",
        "  print(\"leap year\")\n",
        "else:\n",
        "  print(\"not a leap year\")"
      ]
    },
    {
      "cell_type": "markdown",
      "metadata": {
        "id": "xfGG9eNschyS"
      },
      "source": [
        "**Question 18:** Write a Python program to reverse a string."
      ]
    },
    {
      "cell_type": "code",
      "execution_count": null,
      "metadata": {
        "id": "ol-hiTAxchyS",
        "colab": {
          "base_uri": "https://localhost:8080/"
        },
        "outputId": "59bc6420-5d9d-44c9-cda2-213796ea6b29"
      },
      "outputs": [
        {
          "output_type": "stream",
          "name": "stdout",
          "text": [
            "dlrow olleh\n"
          ]
        }
      ],
      "source": [
        "# Your code here\n",
        "str_1 = \"hello world\"\n",
        "print(str_1[::-1])"
      ]
    },
    {
      "cell_type": "markdown",
      "metadata": {
        "id": "HLs7UxnEchyS"
      },
      "source": [
        "**Question 19:** Write a Python program to check if a string is a palindrome."
      ]
    },
    {
      "cell_type": "code",
      "execution_count": null,
      "metadata": {
        "id": "pZfPE4GtchyS",
        "colab": {
          "base_uri": "https://localhost:8080/"
        },
        "outputId": "aba50616-cf17-4566-8b17-c7659ee64d2f"
      },
      "outputs": [
        {
          "output_type": "stream",
          "name": "stdout",
          "text": [
            "True\n"
          ]
        }
      ],
      "source": [
        "# Your code here\n",
        "str_1 = \"madam\"\n",
        "print(str_1 == (str_1[::-1]))"
      ]
    },
    {
      "cell_type": "markdown",
      "metadata": {
        "id": "krOVxM3ychyi"
      },
      "source": [
        "**Question 20:** Write a Python program to sort a list of numbers in ascending order."
      ]
    },
    {
      "cell_type": "code",
      "source": [
        "my_list = [1,3, 2, 4,9, 5, 6]\n",
        "my_list.sort()\n",
        "print(my_list)"
      ],
      "metadata": {
        "colab": {
          "base_uri": "https://localhost:8080/"
        },
        "id": "xuH4YbfJmLNv",
        "outputId": "8e300b59-25e0-4cf7-aa61-ba445da10c72"
      },
      "execution_count": 1,
      "outputs": [
        {
          "output_type": "stream",
          "name": "stdout",
          "text": [
            "[1, 2, 3, 4, 5, 6, 9]\n"
          ]
        }
      ]
    }
  ],
  "metadata": {
    "kernelspec": {
      "display_name": "Python 3",
      "language": "python",
      "name": "python3"
    },
    "language_info": {
      "codemirror_mode": {
        "name": "ipython",
        "version": 3
      },
      "file_extension": ".py",
      "mimetype": "text/x-python",
      "name": "python",
      "nbconvert_exporter": "python",
      "pygments_lexer": "ipython3",
      "version": "3.8.5"
    },
    "colab": {
      "provenance": []
    }
  },
  "nbformat": 4,
  "nbformat_minor": 0
}