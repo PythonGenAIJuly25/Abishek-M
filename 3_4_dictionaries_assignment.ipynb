{
  "cells": [
    {
      "cell_type": "markdown",
      "metadata": {
        "id": "MFURp14Q5J4S"
      },
      "source": [
        "# Module 3: Data Structures Assignments\n",
        "## Lesson 3.4: Dictionaries\n",
        "### Assignment 1: Creating and Accessing Dictionaries\n",
        "\n",
        "Create a dictionary with the first 10 positive integers as keys and their squares as values. Print the dictionary.\n",
        "\n",
        "### Assignment 2: Accessing Dictionary Elements\n",
        "\n",
        "Print the value of the key 5 and the keys of the dictionary created in Assignment 1.\n",
        "\n",
        "### Assignment 3: Dictionary Methods\n",
        "\n",
        "Add a new key-value pair (11, 121) to the dictionary created in Assignment 1 and then remove the key-value pair with key 1. Print the modified dictionary.\n",
        "\n",
        "### Assignment 4: Iterating Over Dictionaries\n",
        "\n",
        "Iterate over the dictionary created in Assignment 1 and print each key-value pair.\n",
        "\n",
        "### Assignment 5: Dictionary Comprehensions\n",
        "\n",
        "Create a new dictionary containing the cubes of the first 10 positive integers using a dictionary comprehension. Print the new dictionary.\n",
        "\n",
        "### Assignment 6: Merging Dictionaries\n",
        "\n",
        "Create two dictionaries: one with keys as the first 5 positive integers and values as their squares, and another with keys as the next 5 positive integers and values as their squares. Merge these dictionaries into a single dictionary and print it.\n",
        "\n",
        "### Assignment 7: Nested Dictionaries\n",
        "\n",
        "Create a nested dictionary representing a student with keys 'name', 'age', 'grades', where 'grades' is another dictionary with keys 'math', 'science', and 'english'. Print the nested dictionary.\n",
        "\n",
        "### Assignment 8: Dictionary of Lists\n",
        "\n",
        "Create a dictionary where the keys are the first 5 positive integers and the values are lists containing the first 5 multiples of the key. Print the dictionary.\n",
        "\n",
        "### Assignment 9: Dictionary of Tuples\n",
        "\n",
        "Create a dictionary where the keys are the first 5 positive integers and the values are tuples containing the key and its square. Print the dictionary.\n",
        "\n",
        "### Assignment 10: Dictionary and List Conversion\n",
        "\n",
        "Create a dictionary with the first 5 positive integers as keys and their squares as values. Convert the dictionary to a list of tuples and print it.\n",
        "\n",
        "### Assignment 11: Dictionary Filtering\n",
        "\n",
        "Create a dictionary with the first 10 positive integers as keys and their squares as values. Create a new dictionary containing only the key-value pairs where the key is even. Print the new dictionary.\n",
        "\n",
        "### Assignment 12: Dictionary Key and Value Transformation\n",
        "\n",
        "Create a dictionary with the first 5 positive integers as keys and their squares as values. Create a new dictionary with keys and values swapped. Print the new dictionary.\n",
        "\n",
        "### Assignment 13: Default Dictionary\n",
        "\n",
        "Create a default dictionary where each key has a default value of an empty list. Add some elements to the lists and print the dictionary.\n",
        "\n",
        "### Assignment 14: Counting with Dictionaries\n",
        "\n",
        "Write a function that takes a string and returns a dictionary with the count of each character in the string. Print the dictionary.\n",
        "\n",
        "### Assignment 15: Dictionary and JSON\n",
        "\n",
        "Create a dictionary representing a book with keys 'title', 'author', 'year', and 'genre'. Convert the dictionary to a JSON string and print it."
      ],
      "id": "MFURp14Q5J4S"
    },
    {
      "cell_type": "code",
      "execution_count": null,
      "metadata": {
        "colab": {
          "base_uri": "https://localhost:8080/"
        },
        "id": "1Mf7t1YH5J4W",
        "outputId": "ee593893-1a0e-4ed7-9a2d-04be764b9ef9"
      },
      "outputs": [
        {
          "output_type": "stream",
          "name": "stdout",
          "text": [
            "{1: 1, 2: 4, 3: 9, 4: 16, 5: 25, 6: 36, 7: 49, 8: 64, 9: 81, 10: 100}\n"
          ]
        }
      ],
      "source": [
        "# Assignment 1: Creating and Accessing Dictionaries\n",
        "# Create a dictionary with the first 10 positive integers as keys and their squares as values. Print the dictionary.\n",
        "my_dict = {x:x**2 for x in range(1,11)}\n",
        "print(my_dict)"
      ],
      "id": "1Mf7t1YH5J4W"
    },
    {
      "cell_type": "code",
      "source": [
        "# Assignment 2: Accessing Dictionary Elements\n",
        "# Print the value of the key 5 and the keys of the dictionary created in Assignment 1.\n",
        "print(my_dict[5])\n",
        "key = my_dict.keys()\n",
        "print(key)"
      ],
      "metadata": {
        "colab": {
          "base_uri": "https://localhost:8080/"
        },
        "id": "qntEIrPq5UZE",
        "outputId": "b0afde25-671c-442e-abca-f36ca468386b"
      },
      "id": "qntEIrPq5UZE",
      "execution_count": null,
      "outputs": [
        {
          "output_type": "stream",
          "name": "stdout",
          "text": [
            "25\n",
            "dict_keys([1, 2, 3, 4, 5, 6, 7, 8, 9, 10])\n"
          ]
        }
      ]
    },
    {
      "cell_type": "code",
      "source": [
        "# Assignment 3: Dictionary Methods\n",
        "# Add a new key-value pair (11, 121) to the dictionary created in Assignment 1 and then remove the key-value pair with key 1. Print the modified dictionary.\n",
        "my_dict[11]=121\n",
        "del my_dict[1]\n",
        "print(my_dict)"
      ],
      "metadata": {
        "colab": {
          "base_uri": "https://localhost:8080/"
        },
        "id": "6hROR8FO5Ugd",
        "outputId": "2b4d5875-3d8f-4c06-f428-e43b830bb856"
      },
      "id": "6hROR8FO5Ugd",
      "execution_count": null,
      "outputs": [
        {
          "output_type": "stream",
          "name": "stdout",
          "text": [
            "{2: 4, 3: 9, 4: 16, 5: 25, 6: 36, 7: 49, 8: 64, 9: 81, 10: 100, 11: 121}\n"
          ]
        }
      ]
    },
    {
      "cell_type": "code",
      "source": [
        "# Assignment 4: Iterating Over Dictionaries\n",
        "# Iterate over the dictionary created in Assignment 1 and print each key-value pair.\n",
        "for key, value in my_dict.items():\n",
        "  print(key,value)"
      ],
      "metadata": {
        "colab": {
          "base_uri": "https://localhost:8080/"
        },
        "id": "QD-yrkxg5U1C",
        "outputId": "6860577c-0f51-444e-cf8d-f5863075dc67"
      },
      "id": "QD-yrkxg5U1C",
      "execution_count": null,
      "outputs": [
        {
          "output_type": "stream",
          "name": "stdout",
          "text": [
            "2 4\n",
            "3 9\n",
            "4 16\n",
            "5 25\n",
            "6 36\n",
            "7 49\n",
            "8 64\n",
            "9 81\n",
            "10 100\n",
            "11 121\n"
          ]
        }
      ]
    },
    {
      "cell_type": "code",
      "source": [
        "# Assignment 5: Dictionary Comprehensions\n",
        "# Create a new dictionary containing the cubes of the first 10 positive integers using a dictionary comprehension. Print the new dictionary.\n",
        "cube = {x:x**3 for x in range(1,11)}\n",
        "print(cube)"
      ],
      "metadata": {
        "colab": {
          "base_uri": "https://localhost:8080/"
        },
        "id": "nKYHaTlJ5U8k",
        "outputId": "80ba4305-a892-4a4c-d25b-615a728fb989"
      },
      "id": "nKYHaTlJ5U8k",
      "execution_count": null,
      "outputs": [
        {
          "output_type": "stream",
          "name": "stdout",
          "text": [
            "{1: 1, 2: 8, 3: 27, 4: 64, 5: 125, 6: 216, 7: 343, 8: 512, 9: 729, 10: 1000}\n"
          ]
        }
      ]
    },
    {
      "cell_type": "code",
      "source": [
        "# # Assignment 6: Merging Dictionaries\n",
        "# # Create two dictionaries: one with keys as the first 5 positive integers and values as their squares, and another with keys as the next 5 positive integers\n",
        "# and values as their squares. Merge these dictionaries into a single dictionary and print it.\n",
        "a = {x:x**2 for x in range(1,6)}\n",
        "b = {x:x**3 for x in range(6,11)}\n",
        "c = a | b\n",
        "print(c)"
      ],
      "metadata": {
        "colab": {
          "base_uri": "https://localhost:8080/"
        },
        "id": "uKcwA92L5VDi",
        "outputId": "f4961332-ef2a-479b-ef06-2f4f24daabe4"
      },
      "id": "uKcwA92L5VDi",
      "execution_count": null,
      "outputs": [
        {
          "output_type": "stream",
          "name": "stdout",
          "text": [
            "{1: 1, 2: 4, 3: 9, 4: 16, 5: 25, 6: 216, 7: 343, 8: 512, 9: 729, 10: 1000}\n"
          ]
        }
      ]
    },
    {
      "cell_type": "code",
      "source": [
        "# Assignment 7: Nested Dictionaries\n",
        "# Create a nested dictionary representing a student with keys 'name', 'age', 'grades', where 'grades' is another dictionary with keys 'math', 'science', and 'english'. Print the nested dictionary.\n",
        "student = {\"students\":{\"name\":\"Abi\", \"age\":21,\"grade\":100},\n",
        "           \"grades\":{\"math\":89,\"science\":90,\"english\":99}\n",
        "           }\n",
        "print(student)"
      ],
      "metadata": {
        "colab": {
          "base_uri": "https://localhost:8080/"
        },
        "id": "5qcDx_325VK6",
        "outputId": "8bbb0ce6-e133-4dd1-a11d-8a59e65c02af"
      },
      "id": "5qcDx_325VK6",
      "execution_count": null,
      "outputs": [
        {
          "output_type": "stream",
          "name": "stdout",
          "text": [
            "{'students': {'name': 'Abi', 'age': 21, 'grade': 100}, 'grades': {'math': 89, 'science': 90, 'english': 99}}\n"
          ]
        }
      ]
    },
    {
      "cell_type": "code",
      "source": [
        "# Assignment 8: Dictionary of Lists\n",
        "# Create a dictionary where the keys are the first 5 positive integers and the values are lists containing the first 5 multiples of the key. Print the dictionary.\n",
        "lists = {x:[x*i for i in range(1,6)] for x in range(1,6)}\n",
        "for key, value in lists.items():\n",
        "  print(key,value)"
      ],
      "metadata": {
        "colab": {
          "base_uri": "https://localhost:8080/"
        },
        "id": "lMUWQ5c45VSS",
        "outputId": "3cbb46a5-478d-4f10-d013-63a34724527b"
      },
      "id": "lMUWQ5c45VSS",
      "execution_count": null,
      "outputs": [
        {
          "output_type": "stream",
          "name": "stdout",
          "text": [
            "1 [1, 2, 3, 4, 5]\n",
            "2 [2, 4, 6, 8, 10]\n",
            "3 [3, 6, 9, 12, 15]\n",
            "4 [4, 8, 12, 16, 20]\n",
            "5 [5, 10, 15, 20, 25]\n"
          ]
        }
      ]
    },
    {
      "cell_type": "code",
      "source": [
        "# Assignment 9: Dictionary of Tuples\n",
        "# Create a dictionary where the keys are the first 5 positive integers and the values are tuples containing the key and its square. Print the dictionary.\n",
        "tuples = {x:(x,x**2)for x in range(1,6)}\n",
        "for key,value in tuples.items():\n",
        "  print(key,value)"
      ],
      "metadata": {
        "colab": {
          "base_uri": "https://localhost:8080/"
        },
        "id": "NVJh23o05VZi",
        "outputId": "3d767fbe-8066-457a-f4ac-0af201313137"
      },
      "id": "NVJh23o05VZi",
      "execution_count": null,
      "outputs": [
        {
          "output_type": "stream",
          "name": "stdout",
          "text": [
            "1 (1, 1)\n",
            "2 (2, 4)\n",
            "3 (3, 9)\n",
            "4 (4, 16)\n",
            "5 (5, 25)\n"
          ]
        }
      ]
    },
    {
      "cell_type": "code",
      "source": [
        "# Assignment 10: Dictionary and List Conversion\n",
        "# Create a dictionary with the first 5 positive integers as keys and their squares as values. Convert the dictionary to a list of tuples and print it.\n",
        "lists = {x:x**2 for x in range(1,6)}\n",
        "my_list = list(lists.items())\n",
        "print(my_list)\n"
      ],
      "metadata": {
        "id": "qiv8VXix5Vg9",
        "colab": {
          "base_uri": "https://localhost:8080/"
        },
        "outputId": "c9704b6e-e733-4089-c56c-dc1c49aa7f7e"
      },
      "id": "qiv8VXix5Vg9",
      "execution_count": 9,
      "outputs": [
        {
          "output_type": "stream",
          "name": "stdout",
          "text": [
            "[(1, 1), (2, 4), (3, 9), (4, 16), (5, 25)]\n"
          ]
        }
      ]
    },
    {
      "cell_type": "code",
      "source": [
        "# # Assignment 11: Dictionary Filtering\n",
        "# # Create a dictionary with the first 10 positive integers as keys and their squares as values. Create a new dictionary containing only the key-value pairs where the key is even.\n",
        "#  Print the new dictionary.\n",
        "my_dictionary = {x:x**2 for x in range(1,11)}\n",
        "new_dict = { }\n",
        "for key, value in my_dictionary.items():\n",
        "  if key %2 == 0:\n",
        "    new_dict[key]=value\n",
        "print(new_dict)\n"
      ],
      "metadata": {
        "id": "AWrl1bcr5Vnv",
        "colab": {
          "base_uri": "https://localhost:8080/"
        },
        "outputId": "15641a1d-e69f-45fd-ac9f-30cb56ba97d5"
      },
      "id": "AWrl1bcr5Vnv",
      "execution_count": 13,
      "outputs": [
        {
          "output_type": "stream",
          "name": "stdout",
          "text": [
            "{2: 4, 4: 16, 6: 36, 8: 64, 10: 100}\n"
          ]
        }
      ]
    },
    {
      "cell_type": "code",
      "source": [
        "# Assignment 12: Dictionary Key and Value Transformation\n",
        "# Create a dictionary with the first 5 positive integers as keys and their squares as values. Create a new dictionary with keys and values swapped. Print the new dictionary.\n",
        "my_dict = {x:x**2 for x in range(1,6)}\n",
        "print(my_dict)\n",
        "new_dict = {value:key for key, value in my_dict.items()}\n",
        "print(new_dict)\n"
      ],
      "metadata": {
        "id": "dOpWwv_P5Vv5",
        "colab": {
          "base_uri": "https://localhost:8080/"
        },
        "outputId": "f067deb0-82fe-4403-837f-6b85429aadfe"
      },
      "id": "dOpWwv_P5Vv5",
      "execution_count": 21,
      "outputs": [
        {
          "output_type": "stream",
          "name": "stdout",
          "text": [
            "{1: 1, 2: 4, 3: 9, 4: 16, 5: 25}\n",
            "{1: 1, 4: 2, 9: 3, 16: 4, 25: 5}\n"
          ]
        }
      ]
    },
    {
      "cell_type": "code",
      "source": [
        "# Assignment 13: Default Dictionary\n",
        "# Create a default dictionary where each key has a default value of an empty list. Add some elements to the lists and print the dictionary.\n",
        "keyss = {1:[ ], 2:[ ], 3:[ ], 4 :[ ]}\n",
        "keyss[1]=[1,2]\n",
        "keyss[2]=[3,4]\n",
        "keyss[3]=[5,6]\n",
        "keyss[4]=[7,8]\n",
        "print(keyss)"
      ],
      "metadata": {
        "id": "__2VlT3g5V33",
        "colab": {
          "base_uri": "https://localhost:8080/"
        },
        "outputId": "581c0816-95c6-4ee9-9ba5-1390cc0c344e"
      },
      "id": "__2VlT3g5V33",
      "execution_count": 24,
      "outputs": [
        {
          "output_type": "stream",
          "name": "stdout",
          "text": [
            "{1: [1, 2], 2: [3, 4], 3: [5, 6], 4: [7, 8]}\n"
          ]
        }
      ]
    },
    {
      "cell_type": "code",
      "source": [
        "# Assignment 14: Counting with Dictionaries\n",
        "# Write a function that takes a string and returns a dictionary with the count of each character in the string. Print the dictionary.\n",
        "\n",
        "def my_fun(dictss):\n",
        "  result = dict( )\n",
        "  for word in dictss:\n",
        "    result[word]=len(word)\n",
        "  print(result)\n",
        "\n",
        "\n",
        "(my_fun(['my',\"name\",\"is\"]))\n",
        "\n"
      ],
      "metadata": {
        "id": "FJLiKCev5WAS",
        "colab": {
          "base_uri": "https://localhost:8080/"
        },
        "outputId": "696d115b-8173-4eb3-a2a4-087182a059d8"
      },
      "id": "FJLiKCev5WAS",
      "execution_count": 37,
      "outputs": [
        {
          "output_type": "stream",
          "name": "stdout",
          "text": [
            "{'my': 2, 'name': 4, 'is': 2}\n"
          ]
        }
      ]
    },
    {
      "cell_type": "code",
      "source": [
        "# Assignment 15: Dictionary and JSON\n",
        "# Create a dictionary representing a book with keys 'title', 'author', 'year', and 'genre'. Convert the dictionary to a JSON string and print it.\n",
        "import json\n",
        "dictionary = {\"title\":\"python\",\"author\":\"van rossum\",\"year\":1980,\"genre\":\"program\"}\n",
        "result= json.dumps(dictionary)\n",
        "print(result)\n",
        "type(result)"
      ],
      "metadata": {
        "id": "Z7Uk9N_o5WGj",
        "colab": {
          "base_uri": "https://localhost:8080/"
        },
        "outputId": "ddc5fed1-1f78-468b-a707-587a894e641b"
      },
      "id": "Z7Uk9N_o5WGj",
      "execution_count": 41,
      "outputs": [
        {
          "output_type": "stream",
          "name": "stdout",
          "text": [
            "{\"title\": \"python\", \"author\": \"van rossum\", \"year\": 1980, \"genre\": \"program\"}\n"
          ]
        },
        {
          "output_type": "execute_result",
          "data": {
            "text/plain": [
              "str"
            ]
          },
          "metadata": {},
          "execution_count": 41
        }
      ]
    }
  ],
  "metadata": {
    "kernelspec": {
      "display_name": "Python 3",
      "language": "python",
      "name": "python3"
    },
    "language_info": {
      "codemirror_mode": {
        "name": "ipython",
        "version": 3
      },
      "file_extension": ".py",
      "mimetype": "text/x-python",
      "name": "python",
      "nbconvert_exporter": "python",
      "pygments_lexer": "ipython3",
      "version": "3.9.7"
    },
    "colab": {
      "provenance": []
    }
  },
  "nbformat": 4,
  "nbformat_minor": 5
}