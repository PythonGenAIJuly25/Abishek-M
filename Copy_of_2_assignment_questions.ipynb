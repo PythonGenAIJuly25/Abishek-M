{
 "cells": [
  {
   "cell_type": "markdown",
   "id": "sfGQIEVHYL_N",
   "metadata": {
    "id": "sfGQIEVHYL_N"
   },
   "source": []
  },
  {
   "cell_type": "code",
   "execution_count": null,
   "id": "rJ0M94fGX5if",
   "metadata": {
    "id": "rJ0M94fGX5if"
   },
   "outputs": [],
   "source": [
    "#Write a program that asks the user to input a number and prints whether the number is positive.\n",
    "num_1 = int(input(\"Enter the number:\"))\n",
    "if num > 0:\n",
    "  print(\"the number is positive\")\n",
    "else:\n",
    "  print(\"the number is negative\")\n"
   ]
  },
  {
   "cell_type": "code",
   "execution_count": null,
   "id": "BJ4d6DCqX0Na",
   "metadata": {
    "id": "BJ4d6DCqX0Na"
   },
   "outputs": [],
   "source": [
    "#Write a program that asks the user to input a number and prints whether the number is positive or negative.\n",
    "num_1 = int(input(\"Enter the number:\"))\n",
    "if num > 0:\n",
    "  print(\"the number is positive\")\n",
    "else:\n",
    "  print(\"the number is negative\")\n"
   ]
  },
  {
   "cell_type": "code",
   "execution_count": null,
   "id": "GDrhEOG0YXnp",
   "metadata": {
    "id": "GDrhEOG0YXnp"
   },
   "outputs": [],
   "source": [
    "#Write a program that asks the user to input a number and prints whether the number is positive, negative, or zero.\n",
    "num_1 = int(input(\"Enter the number:\"))\n",
    "if num > 0:\n",
    "  print(\"the number is positive\")\n",
    "elif num<0:\n",
    "  print(\"the number is negative\")\n",
    "else:\n",
    "  print(\"the number is 0\")\n"
   ]
  },
  {
   "cell_type": "code",
   "execution_count": null,
   "id": "KcKdqQSfZrB7",
   "metadata": {
    "id": "KcKdqQSfZrB7"
   },
   "outputs": [],
   "source": [
    "# Write a program that asks the user to input a number and prints whether the number is positive and even, positive and odd, or negative.\n",
    "num = int(input(\"Enter a number: \"))\n",
    "\n",
    "if num > 0:\n",
    "    if num % 2 == 0:\n",
    "        print(\"The number is positive and even.\")\n",
    "    else:\n",
    "        print(\"The number is positive and odd.\")\n",
    "elif num < 0:\n",
    "    print(\"The number is negative.\")\n",
    "else:\n",
    "    print(\"The number is zero.\")\n"
   ]
  },
  {
   "cell_type": "code",
   "execution_count": null,
   "id": "Yfa4IlDtafWD",
   "metadata": {
    "id": "Yfa4IlDtafWD"
   },
   "outputs": [],
   "source": [
    "#Write a program that prints all the numbers from 1 to 10 using a for loop.\n",
    "for i in range(1,11):\n",
    "  print(i)"
   ]
  },
  {
   "cell_type": "code",
   "execution_count": 10,
   "id": "jxGWhxv_bbFH",
   "metadata": {
    "colab": {
     "base_uri": "https://localhost:8080/"
    },
    "id": "jxGWhxv_bbFH",
    "outputId": "3dc9be8a-8a2c-41fc-959e-6dc472aefd7d"
   },
   "outputs": [
    {
     "name": "stdout",
     "output_type": "stream",
     "text": [
      "1\n",
      "2\n",
      "3\n",
      "4\n",
      "5\n",
      "6\n",
      "7\n",
      "8\n",
      "9\n",
      "10\n"
     ]
    }
   ],
   "source": [
    "#Write a program that prints all the numbers from 1 to 10 using a while loop.\n",
    "i = 1\n",
    "while i<=10:\n",
    "  print(i)\n",
    "  i+=1\n"
   ]
  },
  {
   "cell_type": "code",
   "execution_count": 14,
   "id": "LvTYEB_Fbd9U",
   "metadata": {
    "colab": {
     "base_uri": "https://localhost:8080/"
    },
    "id": "LvTYEB_Fbd9U",
    "outputId": "932331f3-1585-4b21-b93c-7dabac5291f0"
   },
   "outputs": [
    {
     "name": "stdout",
     "output_type": "stream",
     "text": [
      "*****\n",
      "*****\n",
      "*****\n",
      "*****\n",
      "*****\n"
     ]
    }
   ],
   "source": [
    "#Write a program that prints a 5x5 grid of asterisks (*) using nested loops.\n",
    "for i in range(5):\n",
    "  for j in range(5):\n",
    "    print(\"*\",end=\"\")\n",
    "  print()\n"
   ]
  },
  {
   "cell_type": "code",
   "execution_count": 15,
   "id": "7VcW00Wtbp-t",
   "metadata": {
    "colab": {
     "base_uri": "https://localhost:8080/"
    },
    "id": "7VcW00Wtbp-t",
    "outputId": "59898578-b590-4642-a241-6933eb865a5d"
   },
   "outputs": [
    {
     "name": "stdout",
     "output_type": "stream",
     "text": [
      "enter the number3\n",
      "enter the number2\n",
      "enter the number0\n",
      "5\n"
     ]
    }
   ],
   "source": [
    "#Write a program that asks the user to input numbers until they input 0. The program should print the sum of all the input numbers.\n",
    "total = 0\n",
    "while True:\n",
    "  num = int(input(\"enter the number\"))\n",
    "  if num == 0:\n",
    "    break\n",
    "  total+= num\n",
    "\n",
    "print(total)\n",
    "\n",
    "\n"
   ]
  },
  {
   "cell_type": "code",
   "execution_count": 13,
   "id": "MNxnF7eMbqCO",
   "metadata": {
    "colab": {
     "base_uri": "https://localhost:8080/"
    },
    "id": "MNxnF7eMbqCO",
    "outputId": "8d748d93-894d-4ef4-dadb-0dab90145c7d"
   },
   "outputs": [
    {
     "name": "stdout",
     "output_type": "stream",
     "text": [
      "1\n",
      "2\n",
      "3\n",
      "4\n",
      "6\n",
      "7\n",
      "8\n",
      "9\n",
      "10\n"
     ]
    }
   ],
   "source": [
    "#Write a program that prints all the numbers from 1 to 10 except 5 using a for loop and continue statement.\n",
    "for i in range(1,11):\n",
    "  if i == 5:\n",
    "    continue\n",
    "  print(i)"
   ]
  },
  {
   "cell_type": "code",
   "execution_count": null,
   "id": "nbZq_h2CbqFl",
   "metadata": {
    "id": "nbZq_h2CbqFl"
   },
   "outputs": [],
   "source": [
    "#Write a program that defines an empty function using the pass statement.\n",
    "def empty():\n",
    "  pass"
   ]
  },
  {
   "cell_type": "code",
   "execution_count": 29,
   "id": "16bJUNQ7bqR0",
   "metadata": {
    "colab": {
     "base_uri": "https://localhost:8080/"
    },
    "id": "16bJUNQ7bqR0",
    "outputId": "70b59fa3-c37d-4ed1-83de-a43aa05004b9"
   },
   "outputs": [
    {
     "name": "stdout",
     "output_type": "stream",
     "text": [
      "Enter the number:10\n",
      "\n",
      "2\n",
      "\n",
      "4\n",
      "\n",
      "6\n",
      "\n",
      "8\n",
      "\n",
      "10\n"
     ]
    }
   ],
   "source": [
    "#Write a program that asks the user to input a number and prints all the even numbers from 1 to that number using a for loop.\n",
    "num = int(input(\"Enter the number:\"))\n",
    "for i in range(1,num+1):\n",
    "  if i%2==0:\n",
    "    print(i)\n",
    "  else:\n",
    "    print(\"\")\n"
   ]
  },
  {
   "cell_type": "code",
   "execution_count": null,
   "id": "T3aBL854gIEC",
   "metadata": {
    "id": "T3aBL854gIEC"
   },
   "outputs": [],
   "source": []
  },
  {
   "cell_type": "markdown",
   "id": "bE5-eYaPX0NY",
   "metadata": {
    "id": "bE5-eYaPX0NY"
   },
   "source": [
    "# Module 2: Control Flow Assignments\n",
    "## Lesson 2.1: Conditional Statements\n",
    "### Assignment 1: Simple if Statement\n",
    "\n",
    "Write a program that asks the user to input a number and prints whether the number is positive.\n",
    "\n",
    "\n",
    "### Assignment 2: if-else Statement\n",
    "\n",
    "Write a program that asks the user to input a number and prints whether the number is positive or negative.\n",
    "\n",
    "### Assignment 3: if-elif-else Statement\n",
    "\n",
    "Write a program that asks the user to input a number and prints whether the number is positive, negative, or zero.\n",
    "\n",
    "### Assignment 4: Nested if Statement\n",
    "\n",
    "Write a program that asks the user to input a number and prints whether the number is positive and even, positive and odd, or negative.\n",
    "\n",
    "## Lesson 2.2: Loops\n",
    "### Assignment 5: for Loop\n",
    "\n",
    "Write a program that prints all the numbers from 1 to 10 using a for loop.\n",
    "\n",
    "### Assignment 6: while Loop\n",
    "\n",
    "Write a program that prints all the numbers from 1 to 10 using a while loop.\n",
    "\n",
    "### Assignment 7: Nested Loops\n",
    "\n",
    "Write a program that prints a 5x5 grid of asterisks (*) using nested loops.\n",
    "\n",
    "### Assignment 8: break Statement\n",
    "\n",
    "Write a program that asks the user to input numbers until they input 0. The program should print the sum of all the input numbers.\n",
    "\n",
    "### Assignment 9: continue Statement\n",
    "\n",
    "Write a program that prints all the numbers from 1 to 10 except 5 using a for loop and continue statement.\n",
    "\n",
    "### Assignment 10: pass Statement\n",
    "\n",
    "Write a program that defines an empty function using the pass statement.\n",
    "\n",
    "### Assignment 11: Combining Loops and Conditionals\n",
    "\n",
    "Write a program that asks the user to input a number and prints all the even numbers from 1 to that number using a for loop.\n",
    "\n",
    "### Assignment 12: Factorial Calculation\n",
    "\n",
    "Write a program that calculates the factorial of a number input by the user using a while loop.\n",
    "\n",
    "### Assignment 13: Sum of Digits\n",
    "\n",
    "Write a program that calculates the sum of the digits of a number input by the user using a while loop.\n",
    "\n",
    "### Assignment 14: Prime Number Check\n",
    "\n",
    "Write a program that checks if a number input by the user is a prime number using a for loop.\n",
    "\n",
    "### Assignment 15: Fibonacci Sequence\n",
    "\n",
    "Write a program that prints the first n Fibonacci numbers, where n is input by the user."
   ]
  },
  {
   "cell_type": "code",
   "execution_count": null,
   "id": "3LYE-K70-8Ht",
   "metadata": {
    "id": "3LYE-K70-8Ht"
   },
   "outputs": [],
   "source": []
  },
  {
   "cell_type": "code",
   "execution_count": 38,
   "id": "1O2KPACiggww",
   "metadata": {
    "colab": {
     "base_uri": "https://localhost:8080/"
    },
    "id": "1O2KPACiggww",
    "outputId": "2b1d2f1b-fe60-4965-a54a-d4395a5d3758"
   },
   "outputs": [
    {
     "name": "stdout",
     "output_type": "stream",
     "text": [
      "enter the number:5\n",
      "120\n"
     ]
    }
   ],
   "source": [
    "#Write a program that calculates the factorial of a number input by the user using a while loop.\n",
    "num = int(input(\"enter the number:\"))\n",
    "i = 1\n",
    "fact = 1\n",
    "while i <= num:\n",
    "  fact*=i\n",
    "  i+=1\n",
    "print(fact)"
   ]
  },
  {
   "cell_type": "code",
   "execution_count": 40,
   "id": "IEmplj46gdUN",
   "metadata": {
    "colab": {
     "base_uri": "https://localhost:8080/"
    },
    "id": "IEmplj46gdUN",
    "outputId": "01aa16b2-72a3-4899-feae-dfcf9ef20f89"
   },
   "outputs": [
    {
     "name": "stdout",
     "output_type": "stream",
     "text": [
      "enter the number:10\n",
      "56\n"
     ]
    }
   ],
   "source": [
    "# Write a program that calculates the sum of the digits of a number input by the user using a while loop.1\n",
    "num = int(input(\"enter the number:\"))\n",
    "i = 1\n",
    "fact = 1\n",
    "while i <= num:\n",
    "  fact+=i\n",
    "  i+=1\n",
    "print(fact)\n"
   ]
  },
  {
   "cell_type": "code",
   "execution_count": 3,
   "id": "KlWVQ9r5-8zk",
   "metadata": {
    "colab": {
     "base_uri": "https://localhost:8080/"
    },
    "id": "KlWVQ9r5-8zk",
    "outputId": "56281a3a-f226-404f-cc16-68c9538da5df"
   },
   "outputs": [
    {
     "name": "stdout",
     "output_type": "stream",
     "text": [
      "Enter the number:6\n",
      "6 is not a prime number.\n"
     ]
    }
   ],
   "source": [
    "#Write a program that checks if a number input by the user is a prime number using a for loop.\n",
    "n = int(input(\"Enter the number:\"))\n",
    "is_prime = True\n",
    "if n <= 1:\n",
    "    is_prime = False\n",
    "else:\n",
    "    for i in range(2, int(n**0.5) + 1):\n",
    "        if n % i == 0:\n",
    "            is_prime = False\n",
    "            break\n",
    "\n",
    "if is_prime:\n",
    "    print(f\"{n} is a prime number.\")\n",
    "else:\n",
    "    print(f\"{n} is not a prime number.\")"
   ]
  },
  {
   "cell_type": "code",
   "execution_count": 8,
   "id": "tYEOKvOWBvpJ",
   "metadata": {
    "colab": {
     "base_uri": "https://localhost:8080/"
    },
    "id": "tYEOKvOWBvpJ",
    "outputId": "45765bf5-f5a9-496c-8c15-a127f80e6267"
   },
   "outputs": [
    {
     "name": "stdout",
     "output_type": "stream",
     "text": [
      "enter the number:10\n",
      "1\n",
      "2\n",
      "3\n",
      "5\n",
      "8\n",
      "13\n",
      "21\n",
      "34\n",
      "55\n",
      "89\n",
      "144\n"
     ]
    }
   ],
   "source": [
    "# Write a program that prints the first n Fibonacci numbers, where n is input by the user.\n",
    "n = int(input(\"enter the number:\"))\n",
    "a,b =0,1\n",
    "for i in range(n+1):\n",
    "  new_fib = a+b\n",
    "  print(new_fib)\n",
    "  a=b\n",
    "  b=new_fib\n",
    "\n",
    "\n",
    "\n"
   ]
  }
 ],
 "metadata": {
  "colab": {
   "provenance": []
  },
  "kernelspec": {
   "display_name": "Python 3 (ipykernel)",
   "language": "python",
   "name": "python3"
  },
  "language_info": {
   "codemirror_mode": {
    "name": "ipython",
    "version": 3
   },
   "file_extension": ".py",
   "mimetype": "text/x-python",
   "name": "python",
   "nbconvert_exporter": "python",
   "pygments_lexer": "ipython3",
   "version": "3.13.5"
  }
 },
 "nbformat": 4,
 "nbformat_minor": 5
}
