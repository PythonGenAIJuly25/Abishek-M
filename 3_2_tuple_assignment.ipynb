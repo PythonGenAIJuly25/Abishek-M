{
  "cells": [
    {
      "cell_type": "markdown",
      "id": "6cade624",
      "metadata": {
        "id": "6cade624"
      },
      "source": [
        "# Module 3: Data Structures Assignments\n",
        "## Lesson 3.2: Tuples\n",
        "### Assignment 1: Creating and Accessing Tuples\n",
        "\n",
        "Create a tuple with the first 10 positive integers. Print the tuple.\n",
        "\n",
        "### Assignment 2: Accessing Tuple Elements\n",
        "\n",
        "Print the first, middle, and last elements of the tuple created in Assignment 1.\n",
        "\n",
        "### Assignment 3: Tuple Slicing\n",
        "\n",
        "Print the first three elements, the last three elements, and the elements from index 2 to 5 of the tuple created in Assignment 1.\n",
        "\n",
        "### Assignment 4: Nested Tuples\n",
        "\n",
        "Create a nested tuple representing a 3x3 matrix and print the matrix. Access and print the element at the second row and third column.\n",
        "\n",
        "### Assignment 5: Tuple Concatenation\n",
        "\n",
        "Concatenate two tuples: (1, 2, 3) and (4, 5, 6). Print the resulting tuple.\n",
        "\n",
        "### Assignment 6: Tuple Methods\n",
        "\n",
        "Create a tuple with duplicate elements and count the occurrences of an element. Find the index of the first occurrence of an element in the tuple.\n",
        "\n",
        "### Assignment 7: Unpacking Tuples\n",
        "\n",
        "Create a tuple with 5 elements and unpack it into 5 variables. Print the variables.\n",
        "\n",
        "### Assignment 8: Tuple Conversion\n",
        "\n",
        "Convert a list of the first 5 positive integers to a tuple. Print the tuple.\n",
        "\n",
        "### Assignment 9: Tuple of Tuples\n",
        "\n",
        "Create a tuple containing 3 tuples, each with 3 elements. Print the tuple of tuples.\n",
        "\n",
        "### Assignment 10: Tuple and List\n",
        "\n",
        "Create a tuple with the first 5 positive integers. Convert it to a list, append the number 6, and convert it back to a tuple. Print the resulting tuple.\n",
        "\n",
        "### Assignment 11: Tuple and String\n",
        "\n",
        "Create a tuple with the characters of a string. Join the tuple elements into a single string. Print the string.\n",
        "\n",
        "### Assignment 12: Tuple and Dictionary\n",
        "\n",
        "Create a dictionary with tuple keys and integer values. Print the dictionary.\n",
        "\n",
        "### Assignment 13: Nested Tuple Iteration\n",
        "\n",
        "Create a nested tuple and iterate over the elements, printing each element.\n",
        "\n",
        "### Assignment 14: Tuple and Set\n",
        "\n",
        "Create a tuple with duplicate elements. Convert it to a set to remove duplicates and print the resulting set.\n",
        "\n",
        "### Assignment 15: Tuple Functions\n",
        "\n",
        "Write functions that take a tuple and return the minimum, maximum, and sum of the elements. Print the results for a sample tuple."
      ]
    },
    {
      "cell_type": "code",
      "source": [
        "# Assignment 1: Creating and Accessing Tuples\n",
        "# Create a tuple with the first 10 positive integers. Print the tuple.\n",
        "t1= tuple(range(1,10+1))\n",
        "print(t1)"
      ],
      "metadata": {
        "colab": {
          "base_uri": "https://localhost:8080/"
        },
        "id": "-lK9qqchZdp0",
        "outputId": "25b077e6-ab30-4c60-fbae-c6e59442016b"
      },
      "id": "-lK9qqchZdp0",
      "execution_count": 1,
      "outputs": [
        {
          "output_type": "stream",
          "name": "stdout",
          "text": [
            "(1, 2, 3, 4, 5, 6, 7, 8, 9, 10)\n"
          ]
        }
      ]
    },
    {
      "cell_type": "code",
      "source": [
        "# Assignment 2: Accessing Tuple Elements\n",
        "# Print the first, middle, and last elements of the tuple created in Assignment 1.\n",
        "print(t1[0])\n",
        "print(t1[5])\n",
        "print(t1[9])"
      ],
      "metadata": {
        "colab": {
          "base_uri": "https://localhost:8080/"
        },
        "id": "oeHZ4YuMZdth",
        "outputId": "17d63f9e-42a9-4c41-b066-6fe9ec56263d"
      },
      "id": "oeHZ4YuMZdth",
      "execution_count": 2,
      "outputs": [
        {
          "output_type": "stream",
          "name": "stdout",
          "text": [
            "1\n",
            "6\n",
            "10\n"
          ]
        }
      ]
    },
    {
      "cell_type": "code",
      "source": [
        "# Assignment 3: Tuple Slicing\n",
        "# Print the first three elements, the last three elements, and the elements from index 2 to 5 of the tuple created in Assignment 1.\n",
        "print(t1[0:3])\n",
        "print(t1[7:10])\n",
        "print(t1[2:5])\n"
      ],
      "metadata": {
        "id": "XA1Wsy_pZdxT",
        "colab": {
          "base_uri": "https://localhost:8080/"
        },
        "outputId": "c159601d-fbce-4712-ebbd-f4ab03785b41"
      },
      "id": "XA1Wsy_pZdxT",
      "execution_count": 3,
      "outputs": [
        {
          "output_type": "stream",
          "name": "stdout",
          "text": [
            "(1, 2, 3)\n",
            "(8, 9, 10)\n",
            "(3, 4, 5)\n"
          ]
        }
      ]
    },
    {
      "cell_type": "code",
      "source": [
        "# Assignment 4: Nested Tuples\n",
        "# Create a nested tuple representing a 3x3 matrix and print the matrix. Access and print the element at the second row and third column.\n",
        "t2 = ((1, 2, 3),(4, 5, 6),(7, 8, 9))\n",
        "for i in t2:\n",
        "  print(i)\n",
        "\n",
        "print(t2[1][2])\n"
      ],
      "metadata": {
        "id": "5PX5BFd8Zd0_",
        "colab": {
          "base_uri": "https://localhost:8080/"
        },
        "outputId": "ef1c5f48-69c8-4d95-8147-fe3d27375784"
      },
      "id": "5PX5BFd8Zd0_",
      "execution_count": 4,
      "outputs": [
        {
          "output_type": "stream",
          "name": "stdout",
          "text": [
            "(1, 2, 3)\n",
            "(4, 5, 6)\n",
            "(7, 8, 9)\n",
            "6\n"
          ]
        }
      ]
    },
    {
      "cell_type": "code",
      "source": [
        "# Assignment 5: Tuple Concatenation\n",
        "# Concatenate two tuples: (1, 2, 3) and (4, 5, 6). Print the resulting tuple.\n",
        "a = (1, 2, 3)\n",
        "b = (4, 5, 6)\n",
        "result = (a + b)\n",
        "print(result)\n"
      ],
      "metadata": {
        "id": "rzoPIc_EZd3u",
        "colab": {
          "base_uri": "https://localhost:8080/"
        },
        "outputId": "e25d2b73-8dbf-472e-96ea-14a6523191ef"
      },
      "id": "rzoPIc_EZd3u",
      "execution_count": 5,
      "outputs": [
        {
          "output_type": "stream",
          "name": "stdout",
          "text": [
            "(1, 2, 3, 4, 5, 6)\n"
          ]
        }
      ]
    },
    {
      "cell_type": "code",
      "source": [
        "# Assignment 6: Tuple Methods\n",
        "# Create a tuple with duplicate elements and count the occurrences of an element. Find the index of the first occurrence of an element in the tuple.\n",
        "t3 = (1, 2, 3, 3, 4, 5 )\n",
        "print(t3.count(3))\n",
        "print(t3.index(3))\n"
      ],
      "metadata": {
        "id": "nB0ShpHrZd8B",
        "colab": {
          "base_uri": "https://localhost:8080/"
        },
        "outputId": "3a88f44e-fbcf-44b5-8f53-7bc9acd5d6be"
      },
      "id": "nB0ShpHrZd8B",
      "execution_count": 17,
      "outputs": [
        {
          "output_type": "stream",
          "name": "stdout",
          "text": [
            "2\n",
            "2\n"
          ]
        }
      ]
    },
    {
      "cell_type": "code",
      "source": [
        "# Assignment 7: Unpacking Tuples\n",
        "# Create a tuple with 5 elements and unpack it into 5 variables. Print the variables.\n",
        "my_tuple = (1, 2, 4, 5, 6)\n",
        "a, b, c, d, e = my_tuple\n",
        "print(a)\n",
        "print(b)\n",
        "print(c)\n",
        "print(d)\n",
        "print(e)"
      ],
      "metadata": {
        "id": "f00PHX_iZd_V",
        "colab": {
          "base_uri": "https://localhost:8080/"
        },
        "outputId": "cff07fcd-4c4c-4b14-f115-b43ea49b6ce7"
      },
      "id": "f00PHX_iZd_V",
      "execution_count": 10,
      "outputs": [
        {
          "output_type": "stream",
          "name": "stdout",
          "text": [
            "1\n",
            "2\n",
            "4\n",
            "5\n",
            "6\n"
          ]
        }
      ]
    },
    {
      "cell_type": "code",
      "execution_count": 12,
      "metadata": {
        "id": "leWh57g3ZQT_",
        "colab": {
          "base_uri": "https://localhost:8080/"
        },
        "outputId": "beef17ab-3872-481a-e4a3-7465d26e5c2b"
      },
      "outputs": [
        {
          "output_type": "stream",
          "name": "stdout",
          "text": [
            "(1, 2, 3, 4, 5)\n"
          ]
        }
      ],
      "source": [
        "# Assignment 8: Tuple Conversion\n",
        "# Convert a list of the first 5 positive integers to a tuple. Print the tuple.\n",
        "l1 = list(range(1,6))\n",
        "t4 = tuple(l1)\n",
        "print(t4)"
      ],
      "id": "leWh57g3ZQT_"
    },
    {
      "cell_type": "code",
      "source": [
        "# Assignment 9: Tuple of Tuples\n",
        "# Create a tuple containing 3 tuples, each with 3 elements. Print the tuple of tuples.\n",
        "t2 = ((1, 2, 3),(4, 5, 6),(7, 8, 9))\n",
        "print(t2)\n"
      ],
      "metadata": {
        "id": "w50zPrHsZ5I5",
        "colab": {
          "base_uri": "https://localhost:8080/"
        },
        "outputId": "fc698ecf-2751-4c9c-d800-027bb730322a"
      },
      "id": "w50zPrHsZ5I5",
      "execution_count": 15,
      "outputs": [
        {
          "output_type": "stream",
          "name": "stdout",
          "text": [
            "((1, 2, 3), (4, 5, 6), (7, 8, 9))\n"
          ]
        }
      ]
    },
    {
      "cell_type": "code",
      "source": [
        "# Assignment 10: Tuple and List\n",
        "# Create a tuple with the first 5 positive integers. Convert it to a list, append the number 6, and convert it back to a tuple. Print the resulting tuple.\n",
        "t5 = (1, 2, 3, 4, 5)\n",
        "l2 = list(t5)\n",
        "l2.append(6)\n",
        "my_tuple1 = tuple(l2)\n",
        "print(my_tuple1)"
      ],
      "metadata": {
        "id": "_CBPxFz5Z5PP",
        "colab": {
          "base_uri": "https://localhost:8080/"
        },
        "outputId": "e9768e40-9cce-4dfd-f9ce-6bb9e9d5cad6"
      },
      "id": "_CBPxFz5Z5PP",
      "execution_count": 19,
      "outputs": [
        {
          "output_type": "stream",
          "name": "stdout",
          "text": [
            "(1, 2, 3, 4, 5, 6)\n"
          ]
        }
      ]
    },
    {
      "cell_type": "code",
      "source": [
        "# Assignment 11: Tuple and String\n",
        "# Create a tuple with the characters of a string. Join the tuple elements into a single string. Print the string.\n",
        "fruit = ('a', \"p\", \"p\", \"l\", \"e\")\n",
        "my_fruit = \" \"\n",
        "for char in fruit:\n",
        "  my_fruit+=char\n",
        "\n",
        "print(my_fruit)"
      ],
      "metadata": {
        "id": "26uGkjBnZ5TO",
        "colab": {
          "base_uri": "https://localhost:8080/"
        },
        "outputId": "5a15ffd0-1f48-4065-e595-491a08d1d92e"
      },
      "id": "26uGkjBnZ5TO",
      "execution_count": 20,
      "outputs": [
        {
          "output_type": "stream",
          "name": "stdout",
          "text": [
            " apple\n"
          ]
        }
      ]
    },
    {
      "cell_type": "code",
      "source": [
        "# Assignment 12: Tuple and Dictionary\n",
        "# Create a dictionary with tuple keys and integer values. Print the dictionary.\n",
        "my_dict = {(1, 2):12, (3, 4):34}\n",
        "print(my_dict)"
      ],
      "metadata": {
        "id": "UOzb5ihvZ5Wf",
        "colab": {
          "base_uri": "https://localhost:8080/"
        },
        "outputId": "9a8168bf-d7d7-43cd-dbd5-77b424144b81"
      },
      "id": "UOzb5ihvZ5Wf",
      "execution_count": 21,
      "outputs": [
        {
          "output_type": "stream",
          "name": "stdout",
          "text": [
            "{(1, 2): 12, (3, 4): 34}\n"
          ]
        }
      ]
    },
    {
      "cell_type": "code",
      "source": [
        "# Assignment 13: Nested Tuple Iteration\n",
        "# Create a nested tuple and iterate over the elements, printing each element.\n",
        "t2 = ((1, 2, 3),(4, 5, 6),(7, 8, 9))\n",
        "for i in t2:\n",
        "  for j in i:\n",
        "    print(j)\n"
      ],
      "metadata": {
        "id": "KslUxVBaZ5Z6",
        "colab": {
          "base_uri": "https://localhost:8080/"
        },
        "outputId": "4526e016-d26d-47e3-8c7c-1bd77bca2cbc"
      },
      "id": "KslUxVBaZ5Z6",
      "execution_count": 24,
      "outputs": [
        {
          "output_type": "stream",
          "name": "stdout",
          "text": [
            "1\n",
            "2\n",
            "3\n",
            "4\n",
            "5\n",
            "6\n",
            "7\n",
            "8\n",
            "9\n"
          ]
        }
      ]
    },
    {
      "cell_type": "code",
      "source": [
        "# Assignment 14: Tuple and Set\n",
        "# Create a tuple with duplicate elements. Convert it to a set to remove duplicates and print the resulting set.\n",
        "dupli_tuple = (1, 3, 3, 4, 2, 2)\n",
        "my_set = set(dupli_tuple)\n",
        "print(my_set)\n"
      ],
      "metadata": {
        "id": "2ddtUbKYaFFr",
        "colab": {
          "base_uri": "https://localhost:8080/"
        },
        "outputId": "094dc45f-8776-4146-c6e2-4ac4fe1e661c"
      },
      "id": "2ddtUbKYaFFr",
      "execution_count": 25,
      "outputs": [
        {
          "output_type": "stream",
          "name": "stdout",
          "text": [
            "{1, 2, 3, 4}\n"
          ]
        }
      ]
    },
    {
      "cell_type": "code",
      "source": [
        "# Assignment 15: Tuple Functions\n",
        "# Write functions that take a tuple and return the minimum, maximum, and sum of the elements. Print the results for a sample tuple.\n",
        "def get_min(n):\n",
        "  return min(n)\n",
        "def get_max(n):\n",
        "  return max(n)\n",
        "def get_sum(n):\n",
        "  return sum(n)\n",
        "tuple_1 = (2, 9, 5, 3, 8, 5)\n",
        "print(get_min(tuple_1))\n",
        "print(get_max(tuple_1))\n",
        "print(get_sum(tuple_1))\n"
      ],
      "metadata": {
        "id": "JYHNX7JNaFMB",
        "colab": {
          "base_uri": "https://localhost:8080/"
        },
        "outputId": "22d61abd-335d-4724-d3f4-8c2ad69f52c2"
      },
      "id": "JYHNX7JNaFMB",
      "execution_count": 35,
      "outputs": [
        {
          "output_type": "stream",
          "name": "stdout",
          "text": [
            "2\n",
            "9\n",
            "32\n"
          ]
        }
      ]
    }
  ],
  "metadata": {
    "kernelspec": {
      "display_name": "Python 3",
      "language": "python",
      "name": "python3"
    },
    "language_info": {
      "codemirror_mode": {
        "name": "ipython",
        "version": 3
      },
      "file_extension": ".py",
      "mimetype": "text/x-python",
      "name": "python",
      "nbconvert_exporter": "python",
      "pygments_lexer": "ipython3",
      "version": "3.9.7"
    },
    "colab": {
      "provenance": []
    }
  },
  "nbformat": 4,
  "nbformat_minor": 5
}