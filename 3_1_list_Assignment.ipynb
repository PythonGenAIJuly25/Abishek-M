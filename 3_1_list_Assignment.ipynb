{
  "cells": [
    {
      "cell_type": "markdown",
      "metadata": {
        "id": "XROk23_gAJSl"
      },
      "source": [
        "# Module 3: Data Structures Assignments\n",
        "## Lesson 3.1: Lists\n",
        "### Assignment 1: Creating and Accessing Lists\n",
        "\n",
        "Create a list of the first 20 positive integers. Print the list.\n",
        "\n",
        "### Assignment 2: Accessing List Elements\n",
        "\n",
        "Print the first, middle, and last elements of the list created in Assignment 1.\n",
        "\n",
        "### Assignment 3: List Slicing\n",
        "\n",
        "Print the first five elements, the last five elements, and the elements from index 5 to 15 of the list created in Assignment 1.\n",
        "\n",
        "### Assignment 4: List Comprehensions\n",
        "\n",
        "Create a new list containing the squares of the first 10 positive integers using a list comprehension. Print the new list.\n",
        "\n",
        "### Assignment 5: Filtering Lists\n",
        "\n",
        "Create a new list containing only the even numbers from the list created in Assignment 1 using a list comprehension. Print the new list.\n",
        "\n",
        "### Assignment 6: List Methods\n",
        "\n",
        "Create a list of random numbers and sort it in ascending and descending order. Remove the duplicates from the list and print the modified list.\n",
        "\n",
        "### Assignment 7: Nested Lists\n",
        "\n",
        "Create a nested list representing a 3x3 matrix and print the matrix. Access and print the element at the second row and third column.\n",
        "\n",
        "### Assignment 8: List of Dictionaries\n",
        "\n",
        "Create a list of dictionaries where each dictionary represents a student with keys 'name' and 'score'. Sort the list of dictionaries by the 'score' in descending order and print the sorted list.\n",
        "\n",
        "### Assignment 9: Matrix Transposition\n",
        "\n",
        "Write a function that takes a 3x3 matrix (nested list) as input and returns its transpose. Print the original and transposed matrices.\n",
        "\n",
        "### Assignment 10: Flattening a Nested List\n",
        "\n",
        "Write a function that takes a nested list and flattens it into a single list. Print the original and flattened lists.\n",
        "\n",
        "### Assignment 11: List Manipulation\n",
        "\n",
        "Create a list of the first 10 positive integers. Remove the elements at indices 2, 4, and 6, and insert the element '99' at index 5. Print the modified list.\n",
        "\n",
        "### Assignment 12: List Zipping\n",
        "\n",
        "Create two lists of the same length. Use the `zip` function to combine these lists into a list of tuples and print the result.\n",
        "\n",
        "### Assignment 13: List Reversal\n",
        "\n",
        "Write a function that takes a list and returns a new list with the elements in reverse order. Print the original and reversed lists.\n",
        "\n",
        "### Assignment 14: List Rotation\n",
        "\n",
        "Write a function that rotates a list by n positions. Print the original and rotated lists.\n",
        "\n",
        "### Assignment 15: List Intersection\n",
        "\n",
        "Write a function that takes two lists and returns a new list containing only the elements that are present in both lists. Print the intersected list."
      ],
      "id": "XROk23_gAJSl"
    },
    {
      "cell_type": "code",
      "source": [
        "# #Assignment 1: Creating and Accessing Lists\n",
        "# Create a list of the first 20 positive integers. Print the list.\n",
        "my_list=list(range(1,20+1))\n",
        "print(my_list)"
      ],
      "metadata": {
        "colab": {
          "base_uri": "https://localhost:8080/"
        },
        "id": "xV9pzbt_AKR0",
        "outputId": "883fdf24-6562-4fef-b210-7b5d69b51ad5"
      },
      "id": "xV9pzbt_AKR0",
      "execution_count": 1,
      "outputs": [
        {
          "output_type": "stream",
          "name": "stdout",
          "text": [
            "[1, 2, 3, 4, 5, 6, 7, 8, 9, 10, 11, 12, 13, 14, 15, 16, 17, 18, 19, 20]\n"
          ]
        }
      ]
    },
    {
      "cell_type": "code",
      "source": [
        "# #Assignment 2: Accessing List Elements\n",
        "# Print the first, middle, and last elements of the list created in Assignment 1.\n",
        "print(my_list[0])\n",
        "print(my_list[10])\n",
        "print(my_list[19])"
      ],
      "metadata": {
        "colab": {
          "base_uri": "https://localhost:8080/"
        },
        "id": "lVzeAxFTAKia",
        "outputId": "df1ba425-1450-4c28-e8aa-783f6f3171d0"
      },
      "id": "lVzeAxFTAKia",
      "execution_count": 5,
      "outputs": [
        {
          "output_type": "stream",
          "name": "stdout",
          "text": [
            "1\n",
            "11\n",
            "20\n"
          ]
        }
      ]
    },
    {
      "cell_type": "code",
      "source": [
        "# #Assignment 3: List Slicing\n",
        "# Print the first five elements, the last five elements, and the elements from index 5 to 15 of the list created in Assignment 1.\n",
        "print(my_list[0:5])\n",
        "print(my_list[5:15])"
      ],
      "metadata": {
        "colab": {
          "base_uri": "https://localhost:8080/"
        },
        "id": "GybcZHjdAKoy",
        "outputId": "040acba6-eafb-4815-ccda-5eced5e21da4"
      },
      "id": "GybcZHjdAKoy",
      "execution_count": 9,
      "outputs": [
        {
          "output_type": "stream",
          "name": "stdout",
          "text": [
            "[1, 2, 3, 4, 5]\n",
            "[6, 7, 8, 9, 10, 11, 12, 13, 14, 15]\n"
          ]
        }
      ]
    },
    {
      "cell_type": "code",
      "source": [
        "# Assignment 4: List Comprehensions\n",
        "# Create a new list containing the squares of the first 10 positive integers using a list comprehension. Print the new list.\n",
        "squares = [num**2 for num in range(1,11)]\n",
        "print(squares)"
      ],
      "metadata": {
        "colab": {
          "base_uri": "https://localhost:8080/"
        },
        "id": "HwxQ_e8BAKwu",
        "outputId": "7b6623a1-b63a-4508-9355-0c5c8074353a"
      },
      "id": "HwxQ_e8BAKwu",
      "execution_count": 10,
      "outputs": [
        {
          "output_type": "stream",
          "name": "stdout",
          "text": [
            "[1, 4, 9, 16, 25, 36, 49, 64, 81, 100]\n"
          ]
        }
      ]
    },
    {
      "cell_type": "code",
      "source": [
        "# Assignment 5: Filtering Lists\n",
        "# Create a new list containing only the even numbers from the list created in Assignment 1 using a list comprehension. Print the new list.\n",
        "squares = [num for num in my_list if num%2 == 0]\n",
        "print(squares)"
      ],
      "metadata": {
        "colab": {
          "base_uri": "https://localhost:8080/"
        },
        "id": "dDYtCOcvAK4R",
        "outputId": "cf96e413-c8b7-4777-e2de-995dd8838cd2"
      },
      "id": "dDYtCOcvAK4R",
      "execution_count": 14,
      "outputs": [
        {
          "output_type": "stream",
          "name": "stdout",
          "text": [
            "[2, 4, 6, 8, 10, 12, 14, 16, 18, 20]\n"
          ]
        }
      ]
    },
    {
      "cell_type": "code",
      "source": [
        "# Assignment 6: List Methods\n",
        "# Create a list of random numbers and sort it in ascending and descending order. Remove the duplicates from the list and print the modified list.\n",
        "new_list = [4, 3, 6, 7, 8, 1, 9, 2, 5, 3, 4]\n",
        "new_list.sort()\n",
        "print(new_list)\n",
        "new_list.sort(reverse=True)\n",
        "print(new_list)\n",
        "set(new_list)\n",
        "print(list(new_list))"
      ],
      "metadata": {
        "colab": {
          "base_uri": "https://localhost:8080/"
        },
        "id": "uBnXfR4FAK_B",
        "outputId": "56b1a9c0-530c-4b2b-dd6c-2603efd4b93b"
      },
      "id": "uBnXfR4FAK_B",
      "execution_count": 22,
      "outputs": [
        {
          "output_type": "stream",
          "name": "stdout",
          "text": [
            "[1, 2, 3, 3, 4, 4, 5, 6, 7, 8, 9]\n",
            "[9, 8, 7, 6, 5, 4, 4, 3, 3, 2, 1]\n",
            "[9, 8, 7, 6, 5, 4, 4, 3, 3, 2, 1]\n"
          ]
        }
      ]
    },
    {
      "cell_type": "code",
      "source": [
        "# Assignment 7: Nested Lists\n",
        "# Create a nested list representing a 3x3 matrix and print the matrix. Access and print the element at the second row and third column.\n",
        "matrix = [[1,2,3],[4,5,6],[7,8,9]]\n",
        "for i in matrix:\n",
        "  print(i)\n",
        "\n",
        "print(matrix[1][2])\n"
      ],
      "metadata": {
        "colab": {
          "base_uri": "https://localhost:8080/"
        },
        "id": "OSREsFzsALFo",
        "outputId": "56b49649-d4dc-410f-b5b3-e92a42eddd5f"
      },
      "id": "OSREsFzsALFo",
      "execution_count": 27,
      "outputs": [
        {
          "output_type": "stream",
          "name": "stdout",
          "text": [
            "[1, 2, 3]\n",
            "[4, 5, 6]\n",
            "[7, 8, 9]\n",
            "6\n"
          ]
        }
      ]
    },
    {
      "cell_type": "code",
      "source": [
        "# Assignment 8: List of Dictionaries\n",
        "# Create a list of dictionaries where each dictionary represents a student with keys 'name' and 'score'. Sort the list of dictionaries by the 'score' in descending order and print the sorted list.\n",
        "dic = [{\"name\":\"Abi\",\"score\":30},{\"name\":\"Bob\",\"score\":50},{\"name\":\"krish\",\"score\":20},{\"name\":\"Ram\",\"score\":80}]\n",
        "sort_dic = sorted(dic, key = lambda x:x[\"score\"])\n",
        "print(sort_dic)\n"
      ],
      "metadata": {
        "colab": {
          "base_uri": "https://localhost:8080/"
        },
        "id": "WYgornHlALLu",
        "outputId": "ecedbe38-de65-4414-b994-b24ddf2b9afb"
      },
      "id": "WYgornHlALLu",
      "execution_count": 34,
      "outputs": [
        {
          "output_type": "stream",
          "name": "stdout",
          "text": [
            "[{'name': 'krish', 'score': 20}, {'name': 'Abi', 'score': 30}, {'name': 'Bob', 'score': 50}, {'name': 'Ram', 'score': 80}]\n"
          ]
        }
      ]
    },
    {
      "cell_type": "code",
      "source": [
        "# Assignment 9: Matrix Transposition\n",
        "# Write a function that takes a 3x3 matrix (nested list) as input and returns its transpose. Print the original and transposed matrices.\n",
        "matrix = [[1,2,3],[4,5,6],[7,8,9]]\n",
        "for i in matrix:\n",
        "  print(i)\n",
        "traspos = list(map(list,zip(*matrix)))\n",
        "for i in traspos:\n",
        "  print(i)\n"
      ],
      "metadata": {
        "colab": {
          "base_uri": "https://localhost:8080/"
        },
        "id": "kQXUedNwALSD",
        "outputId": "18dd2d54-a487-4b4a-cebc-a6c406fc50e1"
      },
      "id": "kQXUedNwALSD",
      "execution_count": 41,
      "outputs": [
        {
          "output_type": "stream",
          "name": "stdout",
          "text": [
            "[1, 2, 3]\n",
            "[4, 5, 6]\n",
            "[7, 8, 9]\n",
            "[1, 4, 7]\n",
            "[2, 5, 8]\n",
            "[3, 6, 9]\n"
          ]
        }
      ]
    },
    {
      "cell_type": "code",
      "source": [
        "# Assignment 10: Flattening a Nested List\n",
        "# Write a function that takes a nested list and flattens it into a single list. Print the original and flattened lists.\n",
        "matrix = [[1,2,3],[4,5,6],[7,8,9]]\n",
        "flatten = [num for i in matrix for num in i]\n",
        "print(flatten)"
      ],
      "metadata": {
        "colab": {
          "base_uri": "https://localhost:8080/"
        },
        "id": "eVj1Zm7wALYF",
        "outputId": "060feeee-61da-48f1-bade-950e4ece9252"
      },
      "id": "eVj1Zm7wALYF",
      "execution_count": 42,
      "outputs": [
        {
          "output_type": "stream",
          "name": "stdout",
          "text": [
            "[1, 2, 3, 4, 5, 6, 7, 8, 9]\n"
          ]
        }
      ]
    },
    {
      "cell_type": "code",
      "source": [
        "# Assignment 11: List Manipulation\n",
        "# Create a list of the first 10 positive integers. Remove the elements at indices 2, 4, and 6, and insert the element '99' at index 5. Print the modified list.\n",
        "l = list(range(1,11))\n",
        "l.remove(2)\n",
        "l.remove(4)\n",
        "l.remove(6)\n",
        "print(l)\n",
        "l.insert(5,99)\n",
        "print(l)"
      ],
      "metadata": {
        "colab": {
          "base_uri": "https://localhost:8080/"
        },
        "id": "JzYTGoMbALdt",
        "outputId": "bfab85df-b179-4368-9c1f-ee6270123c75"
      },
      "id": "JzYTGoMbALdt",
      "execution_count": 51,
      "outputs": [
        {
          "output_type": "stream",
          "name": "stdout",
          "text": [
            "[1, 3, 5, 7, 8, 9, 10]\n",
            "[1, 3, 5, 7, 8, 99, 9, 10]\n"
          ]
        }
      ]
    },
    {
      "cell_type": "code",
      "source": [
        "# Assignment 12: List Zipping\n",
        "# Create two lists of the same length. Use the zip function to combine these lists into a list of tuples and print the result.\n",
        "a=[1,2,3,4,5]\n",
        "b=[6,7,8,9,10]\n",
        "combine = zip(a,b)\n",
        "print(list(combine))"
      ],
      "metadata": {
        "colab": {
          "base_uri": "https://localhost:8080/"
        },
        "id": "Oskz4rxVALjw",
        "outputId": "500613c1-7cdd-4685-8813-87445210a96c"
      },
      "id": "Oskz4rxVALjw",
      "execution_count": 54,
      "outputs": [
        {
          "output_type": "stream",
          "name": "stdout",
          "text": [
            "[(1, 6), (2, 7), (3, 8), (4, 9), (5, 10)]\n"
          ]
        }
      ]
    },
    {
      "cell_type": "code",
      "source": [
        "# Assignment 13: List Reversal\n",
        "# Write a function that takes a list and returns a new list with the elements in reverse order. Print the original and reversed lists.\n",
        "def reve(nums):\n",
        "  my_reve = nums[::-1]\n",
        "  return my_reve\n",
        "\n",
        "number =[1,2,3,4,5]\n",
        "print(number)\n",
        "reve(number)"
      ],
      "metadata": {
        "colab": {
          "base_uri": "https://localhost:8080/"
        },
        "id": "lNG2r74uALqr",
        "outputId": "2217c8b9-dd0f-46d9-9d04-276a3790362b"
      },
      "id": "lNG2r74uALqr",
      "execution_count": 59,
      "outputs": [
        {
          "output_type": "stream",
          "name": "stdout",
          "text": [
            "[1, 2, 3, 4, 5]\n"
          ]
        },
        {
          "output_type": "execute_result",
          "data": {
            "text/plain": [
              "[5, 4, 3, 2, 1]"
            ]
          },
          "metadata": {},
          "execution_count": 59
        }
      ]
    },
    {
      "cell_type": "code",
      "source": [
        "# Assignment 14: List Rotation\n",
        "# Write a function that rotates a list by n positions. Print the original and rotated lists.\n",
        "def rotate_list(lst, n):\n",
        "    return lst[-n:] + lst[:-n]\n",
        "\n",
        "original_list = [1, 2, 3, 4, 5]\n",
        "n = 2\n",
        "\n",
        "rotated = rotate_list(original_list, n)\n",
        "print(\"Original list:\", original_list)\n",
        "print(f\"Rotated list \",rotated)"
      ],
      "metadata": {
        "colab": {
          "base_uri": "https://localhost:8080/"
        },
        "id": "sMcsFSAEALxW",
        "outputId": "2f6a61b2-3df9-4f70-8b1c-02c253d526e2"
      },
      "id": "sMcsFSAEALxW",
      "execution_count": 66,
      "outputs": [
        {
          "output_type": "stream",
          "name": "stdout",
          "text": [
            "Original list: [1, 2, 3, 4, 5]\n",
            "Rotated list  [4, 5, 1, 2, 3]\n"
          ]
        }
      ]
    },
    {
      "cell_type": "code",
      "source": [
        "# Assignment 15: List Intersection\n",
        "# Write a function that takes two lists and returns a new list containing only the elements that are present in both lists. Print the intersected list.\n",
        "def inter(l1,l2):\n",
        "  intersection = [item for item in l1 if item in l2]\n",
        "  return intersection\n",
        "num1 = [1, 2, 4, 5, 6]\n",
        "num2 = [5, 6, 8, 7, 9]\n",
        "inter(num1,num2)\n",
        "\n"
      ],
      "metadata": {
        "colab": {
          "base_uri": "https://localhost:8080/"
        },
        "id": "llEwehjgAL4P",
        "outputId": "4bd029a5-451d-4c90-ccb5-dec72aa4343b"
      },
      "id": "llEwehjgAL4P",
      "execution_count": 62,
      "outputs": [
        {
          "output_type": "execute_result",
          "data": {
            "text/plain": [
              "[5, 6]"
            ]
          },
          "metadata": {},
          "execution_count": 62
        }
      ]
    }
  ],
  "metadata": {
    "kernelspec": {
      "display_name": "Python 3",
      "language": "python",
      "name": "python3"
    },
    "language_info": {
      "codemirror_mode": {
        "name": "ipython",
        "version": 3
      },
      "file_extension": ".py",
      "mimetype": "text/x-python",
      "name": "python",
      "nbconvert_exporter": "python",
      "pygments_lexer": "ipython3",
      "version": "3.9.7"
    },
    "colab": {
      "provenance": []
    }
  },
  "nbformat": 4,
  "nbformat_minor": 5
}