{
  "cells": [
    {
      "cell_type": "markdown",
      "metadata": {
        "id": "WL1Qj5WmRzei"
      },
      "source": [
        "# Module 3: Data Structures Assignments\n",
        "## Lesson 3.3: Sets\n",
        "### Assignment 1: Creating and Accessing Sets\n",
        "\n",
        "Create a set with the first 10 positive integers. Print the set.\n",
        "\n",
        "### Assignment 2: Adding and Removing Elements\n",
        "\n",
        "Add the number 11 to the set created in Assignment 1. Then remove the number 1 from the set. Print the modified set.\n",
        "\n",
        "### Assignment 3: Set Operations\n",
        "\n",
        "Create two sets: one with the first 5 positive integers and another with the first 5 even integers. Perform and print the results of union, intersection, difference, and symmetric difference operations on these sets.\n",
        "\n",
        "### Assignment 4: Set Comprehensions\n",
        "\n",
        "Create a new set containing the squares of the first 10 positive integers using a set comprehension. Print the new set.\n",
        "\n",
        "### Assignment 5: Filtering Sets\n",
        "\n",
        "Create a new set containing only the even numbers from the set created in Assignment 1 using a set comprehension. Print the new set.\n",
        "\n",
        "### Assignment 6: Set Methods\n",
        "\n",
        "Create a set with duplicate elements and remove the duplicates using set methods. Print the modified set.\n",
        "\n",
        "### Assignment 7: Subsets and Supersets\n",
        "\n",
        "Create two sets: one with the first 5 positive integers and another with the first 3 positive integers. Check if the second set is a subset of the first set and if the first set is a superset of the second set. Print the results.\n",
        "\n",
        "### Assignment 8: Frozenset\n",
        "\n",
        "Create a frozenset with the first 5 positive integers. Print the frozenset.\n",
        "\n",
        "### Assignment 9: Set and List Conversion\n",
        "\n",
        "Create a set with the first 5 positive integers. Convert it to a list, append the number 6, and convert it back to a set. Print the resulting set.\n",
        "\n",
        "### Assignment 10: Set and Dictionary\n",
        "\n",
        "Create a dictionary with set keys and integer values. Print the dictionary.\n",
        "\n",
        "### Assignment 11: Iterating Over Sets\n",
        "\n",
        "Create a set and iterate over the elements, printing each element.\n",
        "\n",
        "### Assignment 12: Removing Elements from Sets\n",
        "\n",
        "Create a set and remove elements from it until it is empty. Print the set after each removal.\n",
        "\n",
        "### Assignment 13: Set Symmetric Difference Update\n",
        "\n",
        "Create two sets and update the first set with the symmetric difference of the two sets. Print the modified first set.\n",
        "\n",
        "### Assignment 14: Set Membership Testing\n",
        "\n",
        "Create a set and test if certain elements are present in the set. Print the results.\n",
        "\n",
        "### Assignment 15: Set of Tuples\n",
        "\n",
        "Create a set containing tuples, where each tuple contains two elements. Print the set."
      ],
      "id": "WL1Qj5WmRzei"
    },
    {
      "cell_type": "code",
      "source": [
        "# Assignment 1: Creating and Accessing Sets\n",
        "# Create a set with the first 10 positive integers. Print the set.\n",
        "s1 = set(range(1,11))\n",
        "print(s1)"
      ],
      "metadata": {
        "colab": {
          "base_uri": "https://localhost:8080/"
        },
        "id": "zw58KtQckdNY",
        "outputId": "ce980073-cf6a-43a4-bef7-ec71819ee148"
      },
      "id": "zw58KtQckdNY",
      "execution_count": 1,
      "outputs": [
        {
          "output_type": "stream",
          "name": "stdout",
          "text": [
            "{1, 2, 3, 4, 5, 6, 7, 8, 9, 10}\n"
          ]
        }
      ]
    },
    {
      "cell_type": "code",
      "source": [
        "# Assignment 2: Adding and Removing Elements\n",
        "# Add the number 11 to the set created in Assignment 1. Then remove the number 1 from the set. Print the modified set.\n",
        "s1.add(11)\n",
        "\n",
        "s1.remove(1)\n",
        "print(s1)"
      ],
      "metadata": {
        "colab": {
          "base_uri": "https://localhost:8080/"
        },
        "id": "tNs5WcsIkdTO",
        "outputId": "07151c34-8625-49e7-c224-c45106c097bf"
      },
      "id": "tNs5WcsIkdTO",
      "execution_count": 5,
      "outputs": [
        {
          "output_type": "stream",
          "name": "stdout",
          "text": [
            "{2, 3, 4, 5, 6, 7, 8, 9, 10, 11}\n"
          ]
        }
      ]
    },
    {
      "cell_type": "code",
      "source": [
        "# Assignment 3: Set Operations\n",
        "# Create two sets: one with the first 5 positive integers and another with the first 5 even integers. Perform and print the results of union, intersection, difference, and symmetric difference operations on these sets\n",
        "a = {1, 2, 3, 4 , 5 }\n",
        "b = {2, 4, 6, 8, 10}\n",
        "print(f\"union of a ,b is {a | b}\")\n",
        "print(f\"intersection of a,b is{a & b}\")\n",
        "print(f\"difference between a and b is {a - b}\")\n",
        "print(f\"symmetric difference between a and b is{a ^ b}\")"
      ],
      "metadata": {
        "colab": {
          "base_uri": "https://localhost:8080/"
        },
        "id": "T4vwUejBkdZF",
        "outputId": "35708b95-b86e-4d5d-fd6d-3c184d03fe70"
      },
      "id": "T4vwUejBkdZF",
      "execution_count": 8,
      "outputs": [
        {
          "output_type": "stream",
          "name": "stdout",
          "text": [
            "union of a ,b is {1, 2, 3, 4, 5, 6, 8, 10}\n",
            "{2, 4}\n",
            "{1, 3, 5}\n",
            "{1, 3, 5, 6, 8, 10}\n"
          ]
        }
      ]
    },
    {
      "cell_type": "code",
      "source": [
        "# Assignment 4: Set Comprehensions\n",
        "# Create a new set containing the squares of the first 10 positive integers using a set comprehension. Print the new set.\n",
        "square = {num**2 for num in range(1,11)}\n",
        "print(square)"
      ],
      "metadata": {
        "colab": {
          "base_uri": "https://localhost:8080/"
        },
        "id": "zI4K_xH5kdfY",
        "outputId": "c3a87626-051c-43e4-eb3e-cc8b99301c81"
      },
      "id": "zI4K_xH5kdfY",
      "execution_count": 9,
      "outputs": [
        {
          "output_type": "stream",
          "name": "stdout",
          "text": [
            "{64, 1, 4, 36, 100, 9, 16, 49, 81, 25}\n"
          ]
        }
      ]
    },
    {
      "cell_type": "code",
      "source": [
        "# Assignment 5: Filtering Sets\n",
        "# Create a new set containing only the even numbers from the set created in Assignment 1 using a set comprehension. Print the new set.\n",
        "even_num = {x**2 for x in range(1,11) if x%2==0}\n",
        "print(even_num)"
      ],
      "metadata": {
        "colab": {
          "base_uri": "https://localhost:8080/"
        },
        "id": "L0RzEd6nkdlh",
        "outputId": "40feb47c-64d7-4479-c50a-a72eea443f06"
      },
      "id": "L0RzEd6nkdlh",
      "execution_count": 10,
      "outputs": [
        {
          "output_type": "stream",
          "name": "stdout",
          "text": [
            "{64, 100, 4, 36, 16}\n"
          ]
        }
      ]
    },
    {
      "cell_type": "code",
      "source": [
        "# Assignment 6: Set Methods\n",
        "# Create a set with duplicate elements and remove the duplicates using set methods. Print the modified set.\n",
        "set_1 = {1, 3, 3, 4, 5, 6, 3}\n",
        "result = set(set_1)\n",
        "print(result)"
      ],
      "metadata": {
        "colab": {
          "base_uri": "https://localhost:8080/"
        },
        "id": "bsiaYelpkdwr",
        "outputId": "96248af4-3e99-4a41-b438-e4550955c951"
      },
      "id": "bsiaYelpkdwr",
      "execution_count": 11,
      "outputs": [
        {
          "output_type": "stream",
          "name": "stdout",
          "text": [
            "{1, 3, 4, 5, 6}\n"
          ]
        }
      ]
    },
    {
      "cell_type": "code",
      "source": [
        "# # Assignment 7: Subsets and Supersets\n",
        "# # Create two sets: one with the first 5 positive integers and another with the first 3 positive integers.\n",
        "#  Check if the second set is a subset of the first set and if the first set is a superset of the second set. Print the results.\n",
        "a = {1, 2, 3 , 4, 5}\n",
        "b = {1, 2, 3}\n",
        "print(b.issubset(a))\n",
        "print(a.issuperset(b))"
      ],
      "metadata": {
        "colab": {
          "base_uri": "https://localhost:8080/"
        },
        "id": "igkG4HRkkd29",
        "outputId": "211cf87c-2850-4b33-befe-b556a1d6106b"
      },
      "id": "igkG4HRkkd29",
      "execution_count": 14,
      "outputs": [
        {
          "output_type": "stream",
          "name": "stdout",
          "text": [
            "True\n",
            "True\n"
          ]
        }
      ]
    },
    {
      "cell_type": "code",
      "source": [
        "# Assignment 8: Frozenset\n",
        "# Create a frozenset with the first 5 positive integers. Print the frozenset.\n",
        "f1 = {1, 2, 3, 4, 5}\n",
        "froze_set = frozenset(f1)\n",
        "print(froze_set)"
      ],
      "metadata": {
        "colab": {
          "base_uri": "https://localhost:8080/"
        },
        "id": "lrBwID8Dkd9g",
        "outputId": "6d112d44-d9df-42a1-80fb-c1ac861a804f"
      },
      "id": "lrBwID8Dkd9g",
      "execution_count": 15,
      "outputs": [
        {
          "output_type": "stream",
          "name": "stdout",
          "text": [
            "frozenset({1, 2, 3, 4, 5})\n"
          ]
        }
      ]
    },
    {
      "cell_type": "code",
      "source": [
        "# Assignment 9: Set and List Conversion\n",
        "# Create a set with the first 5 positive integers. Convert it to a list, append the number 6, and convert it back to a set. Print the resulting set.\n",
        "set_2 = {1, 2, 3 ,4, 5}\n",
        "lis = list(set_2)\n",
        "lis.append(6)\n",
        "my_set = set(lis)\n",
        "print(my_set)"
      ],
      "metadata": {
        "colab": {
          "base_uri": "https://localhost:8080/"
        },
        "id": "kpKPehVekeD7",
        "outputId": "3ed3cffe-a235-4405-91c3-ddf04ce384bd"
      },
      "id": "kpKPehVekeD7",
      "execution_count": 16,
      "outputs": [
        {
          "output_type": "stream",
          "name": "stdout",
          "text": [
            "{1, 2, 3, 4, 5, 6}\n"
          ]
        }
      ]
    },
    {
      "cell_type": "code",
      "source": [
        "# Assignment 10: Set and Dictionary\n",
        "# Create a dictionary with set keys and integer values. Print the dictionary.\n",
        "my_dict = {(1, 2):12, (3, 4):34, (5, 6):56}\n",
        "print(my_dict)"
      ],
      "metadata": {
        "colab": {
          "base_uri": "https://localhost:8080/"
        },
        "id": "djm_zmCEkeLP",
        "outputId": "71a5987d-f81c-4106-8849-e750f44536bf"
      },
      "id": "djm_zmCEkeLP",
      "execution_count": 18,
      "outputs": [
        {
          "output_type": "execute_result",
          "data": {
            "text/plain": [
              "dict"
            ]
          },
          "metadata": {},
          "execution_count": 18
        }
      ]
    },
    {
      "cell_type": "code",
      "source": [
        "# Assignment 11: Iterating Over Sets\n",
        "# Create a set and iterate over the elements, printing each element.\n",
        "my_set = {1, 2, 4, 5, 6, 7}\n",
        "for i in my_set:\n",
        "  print(i)"
      ],
      "metadata": {
        "colab": {
          "base_uri": "https://localhost:8080/"
        },
        "id": "ovD8F1JMkeSu",
        "outputId": "0cfb3869-c452-474e-805c-3506e488d828"
      },
      "id": "ovD8F1JMkeSu",
      "execution_count": 19,
      "outputs": [
        {
          "output_type": "stream",
          "name": "stdout",
          "text": [
            "1\n",
            "2\n",
            "4\n",
            "5\n",
            "6\n",
            "7\n"
          ]
        }
      ]
    },
    {
      "cell_type": "code",
      "source": [
        "# Assignment 12: Removing Elements from Sets\n",
        "# Create a set and remove elements from it until it is empty. Print the set after each removal.\n",
        "my_set = {1, 2, 3, 4, 5}\n",
        "\n",
        "while my_set:\n",
        "    removed_element = my_set.pop()\n",
        "    print(f\"Removed: {removed_element}, Remaining set: {my_set}\")"
      ],
      "metadata": {
        "colab": {
          "base_uri": "https://localhost:8080/"
        },
        "id": "AwrJowp7keZL",
        "outputId": "5d91bc5e-38b0-4942-baa1-4fc15231ba98"
      },
      "id": "AwrJowp7keZL",
      "execution_count": 24,
      "outputs": [
        {
          "output_type": "stream",
          "name": "stdout",
          "text": [
            "Removed: 1, Remaining set: {2, 3, 4, 5}\n",
            "Removed: 2, Remaining set: {3, 4, 5}\n",
            "Removed: 3, Remaining set: {4, 5}\n",
            "Removed: 4, Remaining set: {5}\n",
            "Removed: 5, Remaining set: set()\n"
          ]
        }
      ]
    },
    {
      "cell_type": "code",
      "source": [
        "# Assignment 13: Set Symmetric Difference Update\n",
        "# Create two sets and update the first set with the symmetric difference of the two sets. Print the modified first set.\n",
        "a = {1, 2, 3, 4 , 5 }\n",
        "b = {2, 4, 6, 8, 10}\n",
        "a = a ^ b\n",
        "print(a)"
      ],
      "metadata": {
        "colab": {
          "base_uri": "https://localhost:8080/"
        },
        "id": "tSJ7PVDzlB60",
        "outputId": "ad4a3ae4-f68a-45fb-8771-b3841548428b"
      },
      "id": "tSJ7PVDzlB60",
      "execution_count": 25,
      "outputs": [
        {
          "output_type": "stream",
          "name": "stdout",
          "text": [
            "{1, 3, 5, 6, 8, 10}\n"
          ]
        }
      ]
    },
    {
      "cell_type": "code",
      "source": [
        "# Assignment 14: Set Membership Testing\n",
        "# Create a set and test if certain elements are present in the set. Print the results.\n",
        "s2 = {1, 2, 4, 5, 6}\n",
        "test = {1,3, 4 ,5, 7}\n",
        "for i in test:\n",
        "  if i in s2:\n",
        "    print(f\"the element {i} is present:\")\n",
        "  else:\n",
        "    print(\"not present\")\n"
      ],
      "metadata": {
        "colab": {
          "base_uri": "https://localhost:8080/"
        },
        "id": "bq145BWakeeY",
        "outputId": "53a38cc8-6cb6-40f6-b00d-a72b7df529cc"
      },
      "id": "bq145BWakeeY",
      "execution_count": 32,
      "outputs": [
        {
          "output_type": "stream",
          "name": "stdout",
          "text": [
            "the element 1 is present:\n",
            "not present\n",
            "the element 4 is present:\n",
            "the element 5 is present:\n",
            "not present\n"
          ]
        }
      ]
    },
    {
      "cell_type": "code",
      "execution_count": 26,
      "metadata": {
        "colab": {
          "base_uri": "https://localhost:8080/"
        },
        "id": "5FIbmbQqRzel",
        "outputId": "86e2e0fe-6429-417b-b391-2729d7602318"
      },
      "outputs": [
        {
          "output_type": "stream",
          "name": "stdout",
          "text": [
            "{(4, 5), (1, 2), (3, 4)}\n"
          ]
        }
      ],
      "source": [
        "# Assignment 15: Set of Tuples\n",
        "# Create a set containing tuples, where each tuple contains two elements. Print the set.\n",
        "set_4 = {(1,2),(3,4),(4,5)}\n",
        "print(set_4)"
      ],
      "id": "5FIbmbQqRzel"
    }
  ],
  "metadata": {
    "kernelspec": {
      "display_name": "Python 3",
      "language": "python",
      "name": "python3"
    },
    "language_info": {
      "codemirror_mode": {
        "name": "ipython",
        "version": 3
      },
      "file_extension": ".py",
      "mimetype": "text/x-python",
      "name": "python",
      "nbconvert_exporter": "python",
      "pygments_lexer": "ipython3",
      "version": "3.9.7"
    },
    "colab": {
      "provenance": []
    }
  },
  "nbformat": 4,
  "nbformat_minor": 5
}